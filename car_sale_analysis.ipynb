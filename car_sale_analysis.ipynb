{
 "cells": [
  {
   "cell_type": "markdown",
   "metadata": {},
   "source": [
    "# Car Sale: PreProcessing And Exploratory Data Analysis"
   ]
  },
  {
   "cell_type": "markdown",
   "metadata": {},
   "source": [
    "\n",
    "# Importing necessary libraries  \n",
    "\n"
   ]
  },
  {
   "cell_type": "code",
   "execution_count": 6,
   "metadata": {
    "execution": {
     "iopub.execute_input": "2022-05-11T12:05:12.236464Z",
     "iopub.status.busy": "2022-05-11T12:05:12.236162Z",
     "iopub.status.idle": "2022-05-11T12:05:12.241381Z",
     "shell.execute_reply": "2022-05-11T12:05:12.240752Z",
     "shell.execute_reply.started": "2022-05-11T12:05:12.236433Z"
    }
   },
   "outputs": [],
   "source": [
    "import numpy as np\n",
    "import pandas as pd\n",
    "import matplotlib.pyplot as plt\n",
    "import seaborn as sns\n",
    "import geopandas as gpd\n"
   ]
  },
  {
   "cell_type": "markdown",
   "metadata": {},
   "source": [
    "\n",
    "# Reading the Dataset\n"
   ]
  },
  {
   "cell_type": "code",
   "execution_count": 7,
   "metadata": {
    "execution": {
     "iopub.execute_input": "2022-05-11T12:05:12.244052Z",
     "iopub.status.busy": "2022-05-11T12:05:12.243542Z",
     "iopub.status.idle": "2022-05-11T12:05:12.267303Z",
     "shell.execute_reply": "2022-05-11T12:05:12.266647Z",
     "shell.execute_reply.started": "2022-05-11T12:05:12.244007Z"
    }
   },
   "outputs": [],
   "source": [
    "df = pd.read_csv('car_data.csv')"
   ]
  },
  {
   "cell_type": "markdown",
   "metadata": {},
   "source": [
    "# Data Pre-Processing"
   ]
  },
  {
   "cell_type": "code",
   "execution_count": 8,
   "metadata": {
    "execution": {
     "iopub.execute_input": "2022-05-11T12:05:12.269803Z",
     "iopub.status.busy": "2022-05-11T12:05:12.268976Z",
     "iopub.status.idle": "2022-05-11T12:05:12.284586Z",
     "shell.execute_reply": "2022-05-11T12:05:12.283610Z",
     "shell.execute_reply.started": "2022-05-11T12:05:12.269752Z"
    }
   },
   "outputs": [
    {
     "data": {
      "text/html": [
       "<div>\n",
       "<style scoped>\n",
       "    .dataframe tbody tr th:only-of-type {\n",
       "        vertical-align: middle;\n",
       "    }\n",
       "\n",
       "    .dataframe tbody tr th {\n",
       "        vertical-align: top;\n",
       "    }\n",
       "\n",
       "    .dataframe thead th {\n",
       "        text-align: right;\n",
       "    }\n",
       "</style>\n",
       "<table border=\"1\" class=\"dataframe\">\n",
       "  <thead>\n",
       "    <tr style=\"text-align: right;\">\n",
       "      <th></th>\n",
       "      <th>Unnamed: 0</th>\n",
       "      <th>Name</th>\n",
       "      <th>Label</th>\n",
       "      <th>Location</th>\n",
       "      <th>Price</th>\n",
       "      <th>Kms_driven</th>\n",
       "      <th>Fuel_type</th>\n",
       "      <th>Owner</th>\n",
       "      <th>Year</th>\n",
       "      <th>Company</th>\n",
       "    </tr>\n",
       "  </thead>\n",
       "  <tbody>\n",
       "    <tr>\n",
       "      <th>0</th>\n",
       "      <td>0</td>\n",
       "      <td>Ford Figo Duratec Petrol EXI 1.2 - 2015</td>\n",
       "      <td>PLATINUM</td>\n",
       "      <td>Bangalore</td>\n",
       "      <td>₹3,80,000</td>\n",
       "      <td>35,056 kms</td>\n",
       "      <td>Petrol</td>\n",
       "      <td>NaN</td>\n",
       "      <td>2015</td>\n",
       "      <td>Ford</td>\n",
       "    </tr>\n",
       "    <tr>\n",
       "      <th>1</th>\n",
       "      <td>1</td>\n",
       "      <td>Maruti Suzuki Wagon R VXI BS IV - 2016</td>\n",
       "      <td>PLATINUM</td>\n",
       "      <td>Bangalore</td>\n",
       "      <td>₹4,65,000</td>\n",
       "      <td>44,000 kms</td>\n",
       "      <td>Petrol</td>\n",
       "      <td>NaN</td>\n",
       "      <td>2016</td>\n",
       "      <td>Maruti</td>\n",
       "    </tr>\n",
       "    <tr>\n",
       "      <th>2</th>\n",
       "      <td>2</td>\n",
       "      <td>Hyundai Creta 1.6 SX PLUS AUTO PETROL - 2018</td>\n",
       "      <td>PLATINUM</td>\n",
       "      <td>Bangalore</td>\n",
       "      <td>₹13,50,000</td>\n",
       "      <td>42,917 kms</td>\n",
       "      <td>Petrol</td>\n",
       "      <td>NaN</td>\n",
       "      <td>2018</td>\n",
       "      <td>Hyundai</td>\n",
       "    </tr>\n",
       "  </tbody>\n",
       "</table>\n",
       "</div>"
      ],
      "text/plain": [
       "   Unnamed: 0                                          Name     Label  \\\n",
       "0           0       Ford Figo Duratec Petrol EXI 1.2 - 2015  PLATINUM   \n",
       "1           1        Maruti Suzuki Wagon R VXI BS IV - 2016  PLATINUM   \n",
       "2           2  Hyundai Creta 1.6 SX PLUS AUTO PETROL - 2018  PLATINUM   \n",
       "\n",
       "    Location       Price   Kms_driven Fuel_type Owner  Year  Company  \n",
       "0  Bangalore   ₹3,80,000  35,056 kms     Petrol   NaN  2015     Ford  \n",
       "1  Bangalore   ₹4,65,000  44,000 kms     Petrol   NaN  2016   Maruti  \n",
       "2  Bangalore  ₹13,50,000  42,917 kms     Petrol   NaN  2018  Hyundai  "
      ]
     },
     "execution_count": 8,
     "metadata": {},
     "output_type": "execute_result"
    }
   ],
   "source": [
    "df.head(3)"
   ]
  },
  {
   "cell_type": "code",
   "execution_count": 9,
   "metadata": {},
   "outputs": [
    {
     "data": {
      "text/html": [
       "<div>\n",
       "<style scoped>\n",
       "    .dataframe tbody tr th:only-of-type {\n",
       "        vertical-align: middle;\n",
       "    }\n",
       "\n",
       "    .dataframe tbody tr th {\n",
       "        vertical-align: top;\n",
       "    }\n",
       "\n",
       "    .dataframe thead th {\n",
       "        text-align: right;\n",
       "    }\n",
       "</style>\n",
       "<table border=\"1\" class=\"dataframe\">\n",
       "  <thead>\n",
       "    <tr style=\"text-align: right;\">\n",
       "      <th></th>\n",
       "      <th>Unnamed: 0</th>\n",
       "      <th>Name</th>\n",
       "      <th>Label</th>\n",
       "      <th>Location</th>\n",
       "      <th>Price</th>\n",
       "      <th>Kms_driven</th>\n",
       "      <th>Fuel_type</th>\n",
       "      <th>Owner</th>\n",
       "      <th>Year</th>\n",
       "      <th>Company</th>\n",
       "    </tr>\n",
       "  </thead>\n",
       "  <tbody>\n",
       "    <tr>\n",
       "      <th>1027</th>\n",
       "      <td>1027</td>\n",
       "      <td>Hyundai i10 Magna 1.2 - 2014</td>\n",
       "      <td>GOLD</td>\n",
       "      <td>Bangalore</td>\n",
       "      <td>₹2,29,000</td>\n",
       "      <td>65,000 kms</td>\n",
       "      <td>Petrol</td>\n",
       "      <td>1st Owner</td>\n",
       "      <td>2014</td>\n",
       "      <td>Hyundai</td>\n",
       "    </tr>\n",
       "    <tr>\n",
       "      <th>1028</th>\n",
       "      <td>1028</td>\n",
       "      <td>Maruti Suzuki Alto K10 LXi CNG - 2014</td>\n",
       "      <td>GOLD</td>\n",
       "      <td>Bangalore</td>\n",
       "      <td>₹2,75,000</td>\n",
       "      <td>60,000 kms</td>\n",
       "      <td>Petrol</td>\n",
       "      <td>NaN</td>\n",
       "      <td>2014</td>\n",
       "      <td>Maruti</td>\n",
       "    </tr>\n",
       "    <tr>\n",
       "      <th>1029</th>\n",
       "      <td>1029</td>\n",
       "      <td>Jeep Compass Limited 2.0 Diesel - 2017</td>\n",
       "      <td>GOLD</td>\n",
       "      <td>Mahasamund</td>\n",
       "      <td>₹17,50,000</td>\n",
       "      <td>31,000 kms</td>\n",
       "      <td>Diesel</td>\n",
       "      <td>1st Owner</td>\n",
       "      <td>2017</td>\n",
       "      <td>Jeep</td>\n",
       "    </tr>\n",
       "    <tr>\n",
       "      <th>1030</th>\n",
       "      <td>1030</td>\n",
       "      <td>Jeep Compass Limited 2.0 Diesel - 2017</td>\n",
       "      <td>GOLD</td>\n",
       "      <td>Bilaspur</td>\n",
       "      <td>₹17,50,000</td>\n",
       "      <td>31,000 kms</td>\n",
       "      <td>Diesel</td>\n",
       "      <td>1st Owner</td>\n",
       "      <td>2017</td>\n",
       "      <td>Jeep</td>\n",
       "    </tr>\n",
       "    <tr>\n",
       "      <th>1031</th>\n",
       "      <td>1031</td>\n",
       "      <td>Jeep Compass Limited 2.0 Diesel - 2017</td>\n",
       "      <td>GOLD</td>\n",
       "      <td>Jagdalpur</td>\n",
       "      <td>₹17,50,000</td>\n",
       "      <td>31,000 kms</td>\n",
       "      <td>Diesel</td>\n",
       "      <td>1st Owner</td>\n",
       "      <td>2017</td>\n",
       "      <td>Jeep</td>\n",
       "    </tr>\n",
       "  </tbody>\n",
       "</table>\n",
       "</div>"
      ],
      "text/plain": [
       "      Unnamed: 0                                    Name Label    Location  \\\n",
       "1027        1027            Hyundai i10 Magna 1.2 - 2014  GOLD   Bangalore   \n",
       "1028        1028   Maruti Suzuki Alto K10 LXi CNG - 2014  GOLD   Bangalore   \n",
       "1029        1029  Jeep Compass Limited 2.0 Diesel - 2017  GOLD  Mahasamund   \n",
       "1030        1030  Jeep Compass Limited 2.0 Diesel - 2017  GOLD    Bilaspur   \n",
       "1031        1031  Jeep Compass Limited 2.0 Diesel - 2017  GOLD   Jagdalpur   \n",
       "\n",
       "           Price   Kms_driven Fuel_type       Owner  Year  Company  \n",
       "1027   ₹2,29,000  65,000 kms    Petrol    1st Owner  2014  Hyundai  \n",
       "1028   ₹2,75,000  60,000 kms     Petrol         NaN  2014   Maruti  \n",
       "1029  ₹17,50,000  31,000 kms    Diesel    1st Owner  2017     Jeep  \n",
       "1030  ₹17,50,000  31,000 kms    Diesel    1st Owner  2017     Jeep  \n",
       "1031  ₹17,50,000  31,000 kms    Diesel    1st Owner  2017     Jeep  "
      ]
     },
     "execution_count": 9,
     "metadata": {},
     "output_type": "execute_result"
    }
   ],
   "source": [
    "df.tail()"
   ]
  },
  {
   "cell_type": "code",
   "execution_count": 10,
   "metadata": {},
   "outputs": [
    {
     "data": {
      "text/plain": [
       "Index(['Unnamed: 0', 'Name', 'Label', 'Location', 'Price', 'Kms_driven',\n",
       "       'Fuel_type', 'Owner', 'Year', 'Company'],\n",
       "      dtype='object')"
      ]
     },
     "execution_count": 10,
     "metadata": {},
     "output_type": "execute_result"
    }
   ],
   "source": [
    "df.columns"
   ]
  },
  {
   "cell_type": "markdown",
   "metadata": {},
   "source": [
    "So our dataset has an unneccessary **Unnamed: 0** column which needs to be dropped.\n",
    "Also, the Owner column has Nan Values so we need to handle the missing data."
   ]
  },
  {
   "cell_type": "code",
   "execution_count": 11,
   "metadata": {
    "execution": {
     "iopub.execute_input": "2022-05-11T12:05:12.286700Z",
     "iopub.status.busy": "2022-05-11T12:05:12.286343Z",
     "iopub.status.idle": "2022-05-11T12:05:12.296801Z",
     "shell.execute_reply": "2022-05-11T12:05:12.295908Z",
     "shell.execute_reply.started": "2022-05-11T12:05:12.286652Z"
    }
   },
   "outputs": [],
   "source": [
    "df = df.drop(['Unnamed: 0'],axis = 1)"
   ]
  },
  {
   "cell_type": "code",
   "execution_count": 12,
   "metadata": {
    "execution": {
     "iopub.execute_input": "2022-05-11T12:05:12.299661Z",
     "iopub.status.busy": "2022-05-11T12:05:12.299320Z",
     "iopub.status.idle": "2022-05-11T12:05:12.317308Z",
     "shell.execute_reply": "2022-05-11T12:05:12.316735Z",
     "shell.execute_reply.started": "2022-05-11T12:05:12.299614Z"
    }
   },
   "outputs": [
    {
     "data": {
      "text/html": [
       "<div>\n",
       "<style scoped>\n",
       "    .dataframe tbody tr th:only-of-type {\n",
       "        vertical-align: middle;\n",
       "    }\n",
       "\n",
       "    .dataframe tbody tr th {\n",
       "        vertical-align: top;\n",
       "    }\n",
       "\n",
       "    .dataframe thead th {\n",
       "        text-align: right;\n",
       "    }\n",
       "</style>\n",
       "<table border=\"1\" class=\"dataframe\">\n",
       "  <thead>\n",
       "    <tr style=\"text-align: right;\">\n",
       "      <th></th>\n",
       "      <th>Name</th>\n",
       "      <th>Label</th>\n",
       "      <th>Location</th>\n",
       "      <th>Price</th>\n",
       "      <th>Kms_driven</th>\n",
       "      <th>Fuel_type</th>\n",
       "      <th>Owner</th>\n",
       "      <th>Year</th>\n",
       "      <th>Company</th>\n",
       "    </tr>\n",
       "  </thead>\n",
       "  <tbody>\n",
       "    <tr>\n",
       "      <th>0</th>\n",
       "      <td>Ford Figo Duratec Petrol EXI 1.2 - 2015</td>\n",
       "      <td>PLATINUM</td>\n",
       "      <td>Bangalore</td>\n",
       "      <td>₹3,80,000</td>\n",
       "      <td>35,056 kms</td>\n",
       "      <td>Petrol</td>\n",
       "      <td>NaN</td>\n",
       "      <td>2015</td>\n",
       "      <td>Ford</td>\n",
       "    </tr>\n",
       "    <tr>\n",
       "      <th>1</th>\n",
       "      <td>Maruti Suzuki Wagon R VXI BS IV - 2016</td>\n",
       "      <td>PLATINUM</td>\n",
       "      <td>Bangalore</td>\n",
       "      <td>₹4,65,000</td>\n",
       "      <td>44,000 kms</td>\n",
       "      <td>Petrol</td>\n",
       "      <td>NaN</td>\n",
       "      <td>2016</td>\n",
       "      <td>Maruti</td>\n",
       "    </tr>\n",
       "    <tr>\n",
       "      <th>2</th>\n",
       "      <td>Hyundai Creta 1.6 SX PLUS AUTO PETROL - 2018</td>\n",
       "      <td>PLATINUM</td>\n",
       "      <td>Bangalore</td>\n",
       "      <td>₹13,50,000</td>\n",
       "      <td>42,917 kms</td>\n",
       "      <td>Petrol</td>\n",
       "      <td>NaN</td>\n",
       "      <td>2018</td>\n",
       "      <td>Hyundai</td>\n",
       "    </tr>\n",
       "  </tbody>\n",
       "</table>\n",
       "</div>"
      ],
      "text/plain": [
       "                                           Name     Label   Location  \\\n",
       "0       Ford Figo Duratec Petrol EXI 1.2 - 2015  PLATINUM  Bangalore   \n",
       "1        Maruti Suzuki Wagon R VXI BS IV - 2016  PLATINUM  Bangalore   \n",
       "2  Hyundai Creta 1.6 SX PLUS AUTO PETROL - 2018  PLATINUM  Bangalore   \n",
       "\n",
       "        Price   Kms_driven Fuel_type Owner  Year  Company  \n",
       "0   ₹3,80,000  35,056 kms     Petrol   NaN  2015     Ford  \n",
       "1   ₹4,65,000  44,000 kms     Petrol   NaN  2016   Maruti  \n",
       "2  ₹13,50,000  42,917 kms     Petrol   NaN  2018  Hyundai  "
      ]
     },
     "execution_count": 12,
     "metadata": {},
     "output_type": "execute_result"
    }
   ],
   "source": [
    "df.head(3)"
   ]
  },
  {
   "cell_type": "markdown",
   "metadata": {},
   "source": [
    "#### So our unnamed column is dropped"
   ]
  },
  {
   "cell_type": "code",
   "execution_count": 13,
   "metadata": {
    "execution": {
     "iopub.execute_input": "2022-05-11T12:05:12.319015Z",
     "iopub.status.busy": "2022-05-11T12:05:12.318387Z",
     "iopub.status.idle": "2022-05-11T12:05:12.332247Z",
     "shell.execute_reply": "2022-05-11T12:05:12.331476Z",
     "shell.execute_reply.started": "2022-05-11T12:05:12.318981Z"
    }
   },
   "outputs": [
    {
     "name": "stdout",
     "output_type": "stream",
     "text": [
      "<class 'pandas.core.frame.DataFrame'>\n",
      "RangeIndex: 1032 entries, 0 to 1031\n",
      "Data columns (total 9 columns):\n",
      " #   Column      Non-Null Count  Dtype \n",
      "---  ------      --------------  ----- \n",
      " 0   Name        1032 non-null   object\n",
      " 1   Label       1032 non-null   object\n",
      " 2   Location    1030 non-null   object\n",
      " 3   Price       1032 non-null   object\n",
      " 4   Kms_driven  1032 non-null   object\n",
      " 5   Fuel_type   1032 non-null   object\n",
      " 6   Owner       740 non-null    object\n",
      " 7   Year        1032 non-null   int64 \n",
      " 8   Company     1032 non-null   object\n",
      "dtypes: int64(1), object(8)\n",
      "memory usage: 72.7+ KB\n"
     ]
    }
   ],
   "source": [
    "df.info()"
   ]
  },
  {
   "cell_type": "markdown",
   "metadata": {},
   "source": [
    "Except for the **Year** column, all the other columns are of **object** type so we first need to fix that."
   ]
  },
  {
   "cell_type": "code",
   "execution_count": 14,
   "metadata": {
    "execution": {
     "iopub.execute_input": "2022-05-11T12:05:12.334024Z",
     "iopub.status.busy": "2022-05-11T12:05:12.333799Z",
     "iopub.status.idle": "2022-05-11T12:05:12.355266Z",
     "shell.execute_reply": "2022-05-11T12:05:12.354370Z",
     "shell.execute_reply.started": "2022-05-11T12:05:12.333995Z"
    }
   },
   "outputs": [
    {
     "data": {
      "text/html": [
       "<div>\n",
       "<style scoped>\n",
       "    .dataframe tbody tr th:only-of-type {\n",
       "        vertical-align: middle;\n",
       "    }\n",
       "\n",
       "    .dataframe tbody tr th {\n",
       "        vertical-align: top;\n",
       "    }\n",
       "\n",
       "    .dataframe thead th {\n",
       "        text-align: right;\n",
       "    }\n",
       "</style>\n",
       "<table border=\"1\" class=\"dataframe\">\n",
       "  <thead>\n",
       "    <tr style=\"text-align: right;\">\n",
       "      <th></th>\n",
       "      <th>Year</th>\n",
       "    </tr>\n",
       "  </thead>\n",
       "  <tbody>\n",
       "    <tr>\n",
       "      <th>count</th>\n",
       "      <td>1032.000000</td>\n",
       "    </tr>\n",
       "    <tr>\n",
       "      <th>mean</th>\n",
       "      <td>2015.810078</td>\n",
       "    </tr>\n",
       "    <tr>\n",
       "      <th>std</th>\n",
       "      <td>3.396920</td>\n",
       "    </tr>\n",
       "    <tr>\n",
       "      <th>min</th>\n",
       "      <td>2000.000000</td>\n",
       "    </tr>\n",
       "    <tr>\n",
       "      <th>25%</th>\n",
       "      <td>2014.000000</td>\n",
       "    </tr>\n",
       "    <tr>\n",
       "      <th>50%</th>\n",
       "      <td>2016.000000</td>\n",
       "    </tr>\n",
       "    <tr>\n",
       "      <th>75%</th>\n",
       "      <td>2018.000000</td>\n",
       "    </tr>\n",
       "    <tr>\n",
       "      <th>max</th>\n",
       "      <td>2022.000000</td>\n",
       "    </tr>\n",
       "  </tbody>\n",
       "</table>\n",
       "</div>"
      ],
      "text/plain": [
       "              Year\n",
       "count  1032.000000\n",
       "mean   2015.810078\n",
       "std       3.396920\n",
       "min    2000.000000\n",
       "25%    2014.000000\n",
       "50%    2016.000000\n",
       "75%    2018.000000\n",
       "max    2022.000000"
      ]
     },
     "execution_count": 14,
     "metadata": {},
     "output_type": "execute_result"
    }
   ],
   "source": [
    "df.describe()"
   ]
  },
  {
   "cell_type": "markdown",
   "metadata": {},
   "source": [
    "Our ***Location*** column has **2** missing values and our ***Owner*** column has **292** missing values."
   ]
  },
  {
   "cell_type": "markdown",
   "metadata": {},
   "source": [
    "# Data Preparation\n",
    "## Data Inconsistencies\n",
    "### Price Column Pre-Processing\n"
   ]
  },
  {
   "cell_type": "code",
   "execution_count": 15,
   "metadata": {
    "execution": {
     "iopub.execute_input": "2022-05-11T12:05:12.356838Z",
     "iopub.status.busy": "2022-05-11T12:05:12.356510Z",
     "iopub.status.idle": "2022-05-11T12:05:12.364617Z",
     "shell.execute_reply": "2022-05-11T12:05:12.363755Z",
     "shell.execute_reply.started": "2022-05-11T12:05:12.356802Z"
    },
    "scrolled": true
   },
   "outputs": [
    {
     "data": {
      "text/plain": [
       "'Ask For Price'"
      ]
     },
     "execution_count": 15,
     "metadata": {},
     "output_type": "execute_result"
    }
   ],
   "source": [
    "df['Price'].min()"
   ]
  },
  {
   "cell_type": "code",
   "execution_count": 16,
   "metadata": {},
   "outputs": [
    {
     "data": {
      "text/plain": [
       "'₹97,000'"
      ]
     },
     "execution_count": 16,
     "metadata": {},
     "output_type": "execute_result"
    }
   ],
   "source": [
    "df['Price'].max()"
   ]
  },
  {
   "cell_type": "markdown",
   "metadata": {},
   "source": [
    "So aparently our Price column has this ***Ask For Price*** value and we need to get rid of it."
   ]
  },
  {
   "cell_type": "code",
   "execution_count": 17,
   "metadata": {
    "execution": {
     "iopub.execute_input": "2022-05-11T12:05:12.366764Z",
     "iopub.status.busy": "2022-05-11T12:05:12.366245Z",
     "iopub.status.idle": "2022-05-11T12:05:12.378523Z",
     "shell.execute_reply": "2022-05-11T12:05:12.377592Z",
     "shell.execute_reply.started": "2022-05-11T12:05:12.366718Z"
    }
   },
   "outputs": [],
   "source": [
    "df[df['Price'] =='Ask For Price']\n",
    "indexes = df[df['Price'] =='Ask For Price'].index"
   ]
  },
  {
   "cell_type": "markdown",
   "metadata": {},
   "source": [
    "Dropping these rows as we need the price for making predictions.\n",
    "\n",
    "Also **4** of these have missing owner so that also reduces our filling task"
   ]
  },
  {
   "cell_type": "code",
   "execution_count": 18,
   "metadata": {
    "execution": {
     "iopub.execute_input": "2022-05-11T12:05:12.380679Z",
     "iopub.status.busy": "2022-05-11T12:05:12.380005Z",
     "iopub.status.idle": "2022-05-11T12:05:12.388426Z",
     "shell.execute_reply": "2022-05-11T12:05:12.387789Z",
     "shell.execute_reply.started": "2022-05-11T12:05:12.380630Z"
    }
   },
   "outputs": [],
   "source": [
    "df = df.drop(indexes)"
   ]
  },
  {
   "cell_type": "code",
   "execution_count": 19,
   "metadata": {
    "execution": {
     "iopub.execute_input": "2022-05-11T12:05:12.392005Z",
     "iopub.status.busy": "2022-05-11T12:05:12.391074Z",
     "iopub.status.idle": "2022-05-11T12:05:12.405648Z",
     "shell.execute_reply": "2022-05-11T12:05:12.404997Z",
     "shell.execute_reply.started": "2022-05-11T12:05:12.391914Z"
    }
   },
   "outputs": [
    {
     "data": {
      "text/html": [
       "<div>\n",
       "<style scoped>\n",
       "    .dataframe tbody tr th:only-of-type {\n",
       "        vertical-align: middle;\n",
       "    }\n",
       "\n",
       "    .dataframe tbody tr th {\n",
       "        vertical-align: top;\n",
       "    }\n",
       "\n",
       "    .dataframe thead th {\n",
       "        text-align: right;\n",
       "    }\n",
       "</style>\n",
       "<table border=\"1\" class=\"dataframe\">\n",
       "  <thead>\n",
       "    <tr style=\"text-align: right;\">\n",
       "      <th></th>\n",
       "      <th>Name</th>\n",
       "      <th>Label</th>\n",
       "      <th>Location</th>\n",
       "      <th>Price</th>\n",
       "      <th>Kms_driven</th>\n",
       "      <th>Fuel_type</th>\n",
       "      <th>Owner</th>\n",
       "      <th>Year</th>\n",
       "      <th>Company</th>\n",
       "    </tr>\n",
       "  </thead>\n",
       "  <tbody>\n",
       "  </tbody>\n",
       "</table>\n",
       "</div>"
      ],
      "text/plain": [
       "Empty DataFrame\n",
       "Columns: [Name, Label, Location, Price, Kms_driven, Fuel_type, Owner, Year, Company]\n",
       "Index: []"
      ]
     },
     "execution_count": 19,
     "metadata": {},
     "output_type": "execute_result"
    }
   ],
   "source": [
    "df[df['Price'] =='Ask For Price']"
   ]
  },
  {
   "cell_type": "markdown",
   "metadata": {},
   "source": [
    "Now all our Price data is numeric. ie, No price row is holding \"ask for price\" data"
   ]
  },
  {
   "cell_type": "code",
   "execution_count": 20,
   "metadata": {
    "execution": {
     "iopub.execute_input": "2022-05-11T12:05:12.407391Z",
     "iopub.status.busy": "2022-05-11T12:05:12.406936Z",
     "iopub.status.idle": "2022-05-11T12:05:12.413267Z",
     "shell.execute_reply": "2022-05-11T12:05:12.412722Z",
     "shell.execute_reply.started": "2022-05-11T12:05:12.407348Z"
    }
   },
   "outputs": [
    {
     "data": {
      "text/plain": [
       "('₹1,19,000', '₹97,000')"
      ]
     },
     "execution_count": 20,
     "metadata": {},
     "output_type": "execute_result"
    }
   ],
   "source": [
    "df['Price'].min(),df['Price'].max()"
   ]
  },
  {
   "cell_type": "markdown",
   "metadata": {},
   "source": [
    "So our price column is of Object because of the Rupee sign at the start.\n",
    "\n",
    "So let's remove that rupee sign and also remove the **,** and finally convert it to integer."
   ]
  },
  {
   "cell_type": "code",
   "execution_count": 21,
   "metadata": {
    "execution": {
     "iopub.execute_input": "2022-05-11T12:05:12.414693Z",
     "iopub.status.busy": "2022-05-11T12:05:12.414450Z",
     "iopub.status.idle": "2022-05-11T12:05:12.424114Z",
     "shell.execute_reply": "2022-05-11T12:05:12.423526Z",
     "shell.execute_reply.started": "2022-05-11T12:05:12.414663Z"
    }
   },
   "outputs": [
    {
     "data": {
      "text/plain": [
       "119000"
      ]
     },
     "execution_count": 21,
     "metadata": {},
     "output_type": "execute_result"
    }
   ],
   "source": [
    "remove_rupe = lambda a:a[1:].replace(',','')\n",
    "int(remove_rupe('₹1,19,000'))"
   ]
  },
  {
   "cell_type": "markdown",
   "metadata": {},
   "source": [
    "As we can see that our lambda function worked so let's apply it to the Price column and check"
   ]
  },
  {
   "cell_type": "code",
   "execution_count": 22,
   "metadata": {
    "execution": {
     "iopub.execute_input": "2022-05-11T12:05:12.425806Z",
     "iopub.status.busy": "2022-05-11T12:05:12.425407Z",
     "iopub.status.idle": "2022-05-11T12:05:12.440468Z",
     "shell.execute_reply": "2022-05-11T12:05:12.439836Z",
     "shell.execute_reply.started": "2022-05-11T12:05:12.425769Z"
    }
   },
   "outputs": [],
   "source": [
    "df['Price'] = df['Price'].apply(remove_rupe)\n",
    "df['Price'] = pd.to_numeric(df['Price'])"
   ]
  },
  {
   "cell_type": "code",
   "execution_count": 23,
   "metadata": {},
   "outputs": [
    {
     "data": {
      "text/html": [
       "<div>\n",
       "<style scoped>\n",
       "    .dataframe tbody tr th:only-of-type {\n",
       "        vertical-align: middle;\n",
       "    }\n",
       "\n",
       "    .dataframe tbody tr th {\n",
       "        vertical-align: top;\n",
       "    }\n",
       "\n",
       "    .dataframe thead th {\n",
       "        text-align: right;\n",
       "    }\n",
       "</style>\n",
       "<table border=\"1\" class=\"dataframe\">\n",
       "  <thead>\n",
       "    <tr style=\"text-align: right;\">\n",
       "      <th></th>\n",
       "      <th>Name</th>\n",
       "      <th>Label</th>\n",
       "      <th>Location</th>\n",
       "      <th>Price</th>\n",
       "      <th>Kms_driven</th>\n",
       "      <th>Fuel_type</th>\n",
       "      <th>Owner</th>\n",
       "      <th>Year</th>\n",
       "      <th>Company</th>\n",
       "    </tr>\n",
       "  </thead>\n",
       "  <tbody>\n",
       "    <tr>\n",
       "      <th>0</th>\n",
       "      <td>Ford Figo Duratec Petrol EXI 1.2 - 2015</td>\n",
       "      <td>PLATINUM</td>\n",
       "      <td>Bangalore</td>\n",
       "      <td>380000</td>\n",
       "      <td>35,056 kms</td>\n",
       "      <td>Petrol</td>\n",
       "      <td>NaN</td>\n",
       "      <td>2015</td>\n",
       "      <td>Ford</td>\n",
       "    </tr>\n",
       "    <tr>\n",
       "      <th>1</th>\n",
       "      <td>Maruti Suzuki Wagon R VXI BS IV - 2016</td>\n",
       "      <td>PLATINUM</td>\n",
       "      <td>Bangalore</td>\n",
       "      <td>465000</td>\n",
       "      <td>44,000 kms</td>\n",
       "      <td>Petrol</td>\n",
       "      <td>NaN</td>\n",
       "      <td>2016</td>\n",
       "      <td>Maruti</td>\n",
       "    </tr>\n",
       "    <tr>\n",
       "      <th>2</th>\n",
       "      <td>Hyundai Creta 1.6 SX PLUS AUTO PETROL - 2018</td>\n",
       "      <td>PLATINUM</td>\n",
       "      <td>Bangalore</td>\n",
       "      <td>1350000</td>\n",
       "      <td>42,917 kms</td>\n",
       "      <td>Petrol</td>\n",
       "      <td>NaN</td>\n",
       "      <td>2018</td>\n",
       "      <td>Hyundai</td>\n",
       "    </tr>\n",
       "  </tbody>\n",
       "</table>\n",
       "</div>"
      ],
      "text/plain": [
       "                                           Name     Label   Location    Price  \\\n",
       "0       Ford Figo Duratec Petrol EXI 1.2 - 2015  PLATINUM  Bangalore   380000   \n",
       "1        Maruti Suzuki Wagon R VXI BS IV - 2016  PLATINUM  Bangalore   465000   \n",
       "2  Hyundai Creta 1.6 SX PLUS AUTO PETROL - 2018  PLATINUM  Bangalore  1350000   \n",
       "\n",
       "    Kms_driven Fuel_type Owner  Year  Company  \n",
       "0  35,056 kms     Petrol   NaN  2015     Ford  \n",
       "1  44,000 kms     Petrol   NaN  2016   Maruti  \n",
       "2  42,917 kms     Petrol   NaN  2018  Hyundai  "
      ]
     },
     "execution_count": 23,
     "metadata": {},
     "output_type": "execute_result"
    }
   ],
   "source": [
    "df.head(3)"
   ]
  },
  {
   "cell_type": "code",
   "execution_count": 24,
   "metadata": {},
   "outputs": [
    {
     "data": {
      "text/plain": [
       "(39000, 7500000)"
      ]
     },
     "execution_count": 24,
     "metadata": {},
     "output_type": "execute_result"
    }
   ],
   "source": [
    "df['Price'].min() , df['Price'].max()"
   ]
  },
  {
   "cell_type": "code",
   "execution_count": 25,
   "metadata": {},
   "outputs": [
    {
     "data": {
      "text/plain": [
       "Name          object\n",
       "Label         object\n",
       "Location      object\n",
       "Price          int32\n",
       "Kms_driven    object\n",
       "Fuel_type     object\n",
       "Owner         object\n",
       "Year           int64\n",
       "Company       object\n",
       "dtype: object"
      ]
     },
     "execution_count": 25,
     "metadata": {},
     "output_type": "execute_result"
    }
   ],
   "source": [
    "df.astype({'Price': 'int32'}).dtypes"
   ]
  },
  {
   "cell_type": "code",
   "execution_count": 26,
   "metadata": {
    "execution": {
     "iopub.execute_input": "2022-05-11T12:05:12.442498Z",
     "iopub.status.busy": "2022-05-11T12:05:12.442058Z",
     "iopub.status.idle": "2022-05-11T12:05:12.461310Z",
     "shell.execute_reply": "2022-05-11T12:05:12.460484Z",
     "shell.execute_reply.started": "2022-05-11T12:05:12.442466Z"
    }
   },
   "outputs": [
    {
     "data": {
      "text/html": [
       "<div>\n",
       "<style scoped>\n",
       "    .dataframe tbody tr th:only-of-type {\n",
       "        vertical-align: middle;\n",
       "    }\n",
       "\n",
       "    .dataframe tbody tr th {\n",
       "        vertical-align: top;\n",
       "    }\n",
       "\n",
       "    .dataframe thead th {\n",
       "        text-align: right;\n",
       "    }\n",
       "</style>\n",
       "<table border=\"1\" class=\"dataframe\">\n",
       "  <thead>\n",
       "    <tr style=\"text-align: right;\">\n",
       "      <th></th>\n",
       "      <th>Price</th>\n",
       "      <th>Year</th>\n",
       "    </tr>\n",
       "  </thead>\n",
       "  <tbody>\n",
       "    <tr>\n",
       "      <th>count</th>\n",
       "      <td>1.026000e+03</td>\n",
       "      <td>1026.000000</td>\n",
       "    </tr>\n",
       "    <tr>\n",
       "      <th>mean</th>\n",
       "      <td>6.857131e+05</td>\n",
       "      <td>2015.809942</td>\n",
       "    </tr>\n",
       "    <tr>\n",
       "      <th>std</th>\n",
       "      <td>5.374755e+05</td>\n",
       "      <td>3.403289</td>\n",
       "    </tr>\n",
       "    <tr>\n",
       "      <th>min</th>\n",
       "      <td>3.900000e+04</td>\n",
       "      <td>2000.000000</td>\n",
       "    </tr>\n",
       "    <tr>\n",
       "      <th>25%</th>\n",
       "      <td>4.104990e+05</td>\n",
       "      <td>2014.000000</td>\n",
       "    </tr>\n",
       "    <tr>\n",
       "      <th>50%</th>\n",
       "      <td>5.576990e+05</td>\n",
       "      <td>2016.000000</td>\n",
       "    </tr>\n",
       "    <tr>\n",
       "      <th>75%</th>\n",
       "      <td>7.885990e+05</td>\n",
       "      <td>2018.000000</td>\n",
       "    </tr>\n",
       "    <tr>\n",
       "      <th>max</th>\n",
       "      <td>7.500000e+06</td>\n",
       "      <td>2022.000000</td>\n",
       "    </tr>\n",
       "  </tbody>\n",
       "</table>\n",
       "</div>"
      ],
      "text/plain": [
       "              Price         Year\n",
       "count  1.026000e+03  1026.000000\n",
       "mean   6.857131e+05  2015.809942\n",
       "std    5.374755e+05     3.403289\n",
       "min    3.900000e+04  2000.000000\n",
       "25%    4.104990e+05  2014.000000\n",
       "50%    5.576990e+05  2016.000000\n",
       "75%    7.885990e+05  2018.000000\n",
       "max    7.500000e+06  2022.000000"
      ]
     },
     "execution_count": 26,
     "metadata": {},
     "output_type": "execute_result"
    }
   ],
   "source": [
    "df.describe()"
   ]
  },
  {
   "cell_type": "markdown",
   "metadata": {},
   "source": [
    "So now our **Price** column is fixed.\n",
    "\n",
    "Time to fix our **Kms_Driven** Column"
   ]
  },
  {
   "cell_type": "markdown",
   "metadata": {},
   "source": [
    "## Kms_driven Column Pre-Processing\n"
   ]
  },
  {
   "cell_type": "code",
   "execution_count": 27,
   "metadata": {
    "execution": {
     "iopub.execute_input": "2022-05-11T12:05:12.462736Z",
     "iopub.status.busy": "2022-05-11T12:05:12.462476Z",
     "iopub.status.idle": "2022-05-11T12:05:12.470459Z",
     "shell.execute_reply": "2022-05-11T12:05:12.469873Z",
     "shell.execute_reply.started": "2022-05-11T12:05:12.462705Z"
    }
   },
   "outputs": [
    {
     "data": {
      "text/plain": [
       "0       35,056 kms \n",
       "1       44,000 kms \n",
       "2       42,917 kms \n",
       "3       16,112 kms \n",
       "4       30,988 kms \n",
       "           ...     \n",
       "1027    65,000 kms \n",
       "1028    60,000 kms \n",
       "1029    31,000 kms \n",
       "1030    31,000 kms \n",
       "1031    31,000 kms \n",
       "Name: Kms_driven, Length: 1026, dtype: object"
      ]
     },
     "execution_count": 27,
     "metadata": {},
     "output_type": "execute_result"
    }
   ],
   "source": [
    "df['Kms_driven']"
   ]
  },
  {
   "cell_type": "markdown",
   "metadata": {},
   "source": [
    "Because of the kms at the end, it is also of object.\n",
    "\n",
    "First let's ensure all the rows have **kms** at end. If so , we will slice that part off and type case rest of the data.\n",
    "\n",
    "Also we need to remove those **,**"
   ]
  },
  {
   "cell_type": "code",
   "execution_count": 28,
   "metadata": {
    "execution": {
     "iopub.execute_input": "2022-05-11T12:05:12.472011Z",
     "iopub.status.busy": "2022-05-11T12:05:12.471471Z",
     "iopub.status.idle": "2022-05-11T12:05:12.483712Z",
     "shell.execute_reply": "2022-05-11T12:05:12.482843Z",
     "shell.execute_reply.started": "2022-05-11T12:05:12.471976Z"
    }
   },
   "outputs": [
    {
     "data": {
      "text/plain": [
       "31000"
      ]
     },
     "execution_count": 28,
     "metadata": {},
     "output_type": "execute_result"
    }
   ],
   "source": [
    "remove_kms = lambda a:a[:-4].replace(',','')\n",
    "int(remove_kms('31,000 kms'))"
   ]
  },
  {
   "cell_type": "code",
   "execution_count": 29,
   "metadata": {
    "execution": {
     "iopub.execute_input": "2022-05-11T12:05:12.485317Z",
     "iopub.status.busy": "2022-05-11T12:05:12.484945Z",
     "iopub.status.idle": "2022-05-11T12:05:12.498601Z",
     "shell.execute_reply": "2022-05-11T12:05:12.497480Z",
     "shell.execute_reply.started": "2022-05-11T12:05:12.485286Z"
    }
   },
   "outputs": [],
   "source": [
    "df['Kms_driven'] = df['Kms_driven'].apply(remove_kms)\n",
    "df['Kms_driven'] = pd.to_numeric(df['Kms_driven'])"
   ]
  },
  {
   "cell_type": "code",
   "execution_count": 30,
   "metadata": {},
   "outputs": [
    {
     "data": {
      "text/html": [
       "<div>\n",
       "<style scoped>\n",
       "    .dataframe tbody tr th:only-of-type {\n",
       "        vertical-align: middle;\n",
       "    }\n",
       "\n",
       "    .dataframe tbody tr th {\n",
       "        vertical-align: top;\n",
       "    }\n",
       "\n",
       "    .dataframe thead th {\n",
       "        text-align: right;\n",
       "    }\n",
       "</style>\n",
       "<table border=\"1\" class=\"dataframe\">\n",
       "  <thead>\n",
       "    <tr style=\"text-align: right;\">\n",
       "      <th></th>\n",
       "      <th>Name</th>\n",
       "      <th>Label</th>\n",
       "      <th>Location</th>\n",
       "      <th>Price</th>\n",
       "      <th>Kms_driven</th>\n",
       "      <th>Fuel_type</th>\n",
       "      <th>Owner</th>\n",
       "      <th>Year</th>\n",
       "      <th>Company</th>\n",
       "    </tr>\n",
       "  </thead>\n",
       "  <tbody>\n",
       "    <tr>\n",
       "      <th>0</th>\n",
       "      <td>Ford Figo Duratec Petrol EXI 1.2 - 2015</td>\n",
       "      <td>PLATINUM</td>\n",
       "      <td>Bangalore</td>\n",
       "      <td>380000</td>\n",
       "      <td>35056</td>\n",
       "      <td>Petrol</td>\n",
       "      <td>NaN</td>\n",
       "      <td>2015</td>\n",
       "      <td>Ford</td>\n",
       "    </tr>\n",
       "    <tr>\n",
       "      <th>1</th>\n",
       "      <td>Maruti Suzuki Wagon R VXI BS IV - 2016</td>\n",
       "      <td>PLATINUM</td>\n",
       "      <td>Bangalore</td>\n",
       "      <td>465000</td>\n",
       "      <td>44000</td>\n",
       "      <td>Petrol</td>\n",
       "      <td>NaN</td>\n",
       "      <td>2016</td>\n",
       "      <td>Maruti</td>\n",
       "    </tr>\n",
       "    <tr>\n",
       "      <th>2</th>\n",
       "      <td>Hyundai Creta 1.6 SX PLUS AUTO PETROL - 2018</td>\n",
       "      <td>PLATINUM</td>\n",
       "      <td>Bangalore</td>\n",
       "      <td>1350000</td>\n",
       "      <td>42917</td>\n",
       "      <td>Petrol</td>\n",
       "      <td>NaN</td>\n",
       "      <td>2018</td>\n",
       "      <td>Hyundai</td>\n",
       "    </tr>\n",
       "  </tbody>\n",
       "</table>\n",
       "</div>"
      ],
      "text/plain": [
       "                                           Name     Label   Location    Price  \\\n",
       "0       Ford Figo Duratec Petrol EXI 1.2 - 2015  PLATINUM  Bangalore   380000   \n",
       "1        Maruti Suzuki Wagon R VXI BS IV - 2016  PLATINUM  Bangalore   465000   \n",
       "2  Hyundai Creta 1.6 SX PLUS AUTO PETROL - 2018  PLATINUM  Bangalore  1350000   \n",
       "\n",
       "   Kms_driven Fuel_type Owner  Year  Company  \n",
       "0       35056    Petrol   NaN  2015     Ford  \n",
       "1       44000    Petrol   NaN  2016   Maruti  \n",
       "2       42917    Petrol   NaN  2018  Hyundai  "
      ]
     },
     "execution_count": 30,
     "metadata": {},
     "output_type": "execute_result"
    }
   ],
   "source": [
    "df.head(3)"
   ]
  },
  {
   "cell_type": "code",
   "execution_count": 31,
   "metadata": {},
   "outputs": [
    {
     "data": {
      "text/plain": [
       "Name          object\n",
       "Label         object\n",
       "Location      object\n",
       "Price          int64\n",
       "Kms_driven     int32\n",
       "Fuel_type     object\n",
       "Owner         object\n",
       "Year           int64\n",
       "Company       object\n",
       "dtype: object"
      ]
     },
     "execution_count": 31,
     "metadata": {},
     "output_type": "execute_result"
    }
   ],
   "source": [
    "df.astype({'Kms_driven': 'int32'}).dtypes"
   ]
  },
  {
   "cell_type": "code",
   "execution_count": 32,
   "metadata": {
    "execution": {
     "iopub.execute_input": "2022-05-11T12:05:12.501978Z",
     "iopub.status.busy": "2022-05-11T12:05:12.501436Z",
     "iopub.status.idle": "2022-05-11T12:05:12.523316Z",
     "shell.execute_reply": "2022-05-11T12:05:12.522694Z",
     "shell.execute_reply.started": "2022-05-11T12:05:12.501933Z"
    }
   },
   "outputs": [
    {
     "data": {
      "text/html": [
       "<div>\n",
       "<style scoped>\n",
       "    .dataframe tbody tr th:only-of-type {\n",
       "        vertical-align: middle;\n",
       "    }\n",
       "\n",
       "    .dataframe tbody tr th {\n",
       "        vertical-align: top;\n",
       "    }\n",
       "\n",
       "    .dataframe thead th {\n",
       "        text-align: right;\n",
       "    }\n",
       "</style>\n",
       "<table border=\"1\" class=\"dataframe\">\n",
       "  <thead>\n",
       "    <tr style=\"text-align: right;\">\n",
       "      <th></th>\n",
       "      <th>Price</th>\n",
       "      <th>Kms_driven</th>\n",
       "      <th>Year</th>\n",
       "    </tr>\n",
       "  </thead>\n",
       "  <tbody>\n",
       "    <tr>\n",
       "      <th>count</th>\n",
       "      <td>1.026000e+03</td>\n",
       "      <td>1026.000000</td>\n",
       "      <td>1026.000000</td>\n",
       "    </tr>\n",
       "    <tr>\n",
       "      <th>mean</th>\n",
       "      <td>6.857131e+05</td>\n",
       "      <td>50299.542885</td>\n",
       "      <td>2015.809942</td>\n",
       "    </tr>\n",
       "    <tr>\n",
       "      <th>std</th>\n",
       "      <td>5.374755e+05</td>\n",
       "      <td>38143.114092</td>\n",
       "      <td>3.403289</td>\n",
       "    </tr>\n",
       "    <tr>\n",
       "      <th>min</th>\n",
       "      <td>3.900000e+04</td>\n",
       "      <td>0.000000</td>\n",
       "      <td>2000.000000</td>\n",
       "    </tr>\n",
       "    <tr>\n",
       "      <th>25%</th>\n",
       "      <td>4.104990e+05</td>\n",
       "      <td>26228.750000</td>\n",
       "      <td>2014.000000</td>\n",
       "    </tr>\n",
       "    <tr>\n",
       "      <th>50%</th>\n",
       "      <td>5.576990e+05</td>\n",
       "      <td>44000.000000</td>\n",
       "      <td>2016.000000</td>\n",
       "    </tr>\n",
       "    <tr>\n",
       "      <th>75%</th>\n",
       "      <td>7.885990e+05</td>\n",
       "      <td>67551.000000</td>\n",
       "      <td>2018.000000</td>\n",
       "    </tr>\n",
       "    <tr>\n",
       "      <th>max</th>\n",
       "      <td>7.500000e+06</td>\n",
       "      <td>690000.000000</td>\n",
       "      <td>2022.000000</td>\n",
       "    </tr>\n",
       "  </tbody>\n",
       "</table>\n",
       "</div>"
      ],
      "text/plain": [
       "              Price     Kms_driven         Year\n",
       "count  1.026000e+03    1026.000000  1026.000000\n",
       "mean   6.857131e+05   50299.542885  2015.809942\n",
       "std    5.374755e+05   38143.114092     3.403289\n",
       "min    3.900000e+04       0.000000  2000.000000\n",
       "25%    4.104990e+05   26228.750000  2014.000000\n",
       "50%    5.576990e+05   44000.000000  2016.000000\n",
       "75%    7.885990e+05   67551.000000  2018.000000\n",
       "max    7.500000e+06  690000.000000  2022.000000"
      ]
     },
     "execution_count": 32,
     "metadata": {},
     "output_type": "execute_result"
    }
   ],
   "source": [
    "df.describe()"
   ]
  },
  {
   "cell_type": "markdown",
   "metadata": {},
   "source": [
    "Now our **Kms_driven** column is also cleaned.\n",
    "\n",
    "Time to handle the missing data"
   ]
  },
  {
   "cell_type": "markdown",
   "metadata": {},
   "source": [
    "# Finding and Handling Missing Data\n",
    "\n"
   ]
  },
  {
   "cell_type": "code",
   "execution_count": 33,
   "metadata": {
    "execution": {
     "iopub.execute_input": "2022-05-11T12:05:12.524737Z",
     "iopub.status.busy": "2022-05-11T12:05:12.524398Z",
     "iopub.status.idle": "2022-05-11T12:05:12.544777Z",
     "shell.execute_reply": "2022-05-11T12:05:12.543702Z",
     "shell.execute_reply.started": "2022-05-11T12:05:12.524707Z"
    }
   },
   "outputs": [
    {
     "data": {
      "text/html": [
       "<div>\n",
       "<style scoped>\n",
       "    .dataframe tbody tr th:only-of-type {\n",
       "        vertical-align: middle;\n",
       "    }\n",
       "\n",
       "    .dataframe tbody tr th {\n",
       "        vertical-align: top;\n",
       "    }\n",
       "\n",
       "    .dataframe thead th {\n",
       "        text-align: right;\n",
       "    }\n",
       "</style>\n",
       "<table border=\"1\" class=\"dataframe\">\n",
       "  <thead>\n",
       "    <tr style=\"text-align: right;\">\n",
       "      <th></th>\n",
       "      <th>Name</th>\n",
       "      <th>Label</th>\n",
       "      <th>Location</th>\n",
       "      <th>Price</th>\n",
       "      <th>Kms_driven</th>\n",
       "      <th>Fuel_type</th>\n",
       "      <th>Owner</th>\n",
       "      <th>Year</th>\n",
       "      <th>Company</th>\n",
       "    </tr>\n",
       "  </thead>\n",
       "  <tbody>\n",
       "    <tr>\n",
       "      <th>0</th>\n",
       "      <td>Ford Figo Duratec Petrol EXI 1.2 - 2015</td>\n",
       "      <td>PLATINUM</td>\n",
       "      <td>Bangalore</td>\n",
       "      <td>380000</td>\n",
       "      <td>35056</td>\n",
       "      <td>Petrol</td>\n",
       "      <td>NaN</td>\n",
       "      <td>2015</td>\n",
       "      <td>Ford</td>\n",
       "    </tr>\n",
       "    <tr>\n",
       "      <th>1</th>\n",
       "      <td>Maruti Suzuki Wagon R VXI BS IV - 2016</td>\n",
       "      <td>PLATINUM</td>\n",
       "      <td>Bangalore</td>\n",
       "      <td>465000</td>\n",
       "      <td>44000</td>\n",
       "      <td>Petrol</td>\n",
       "      <td>NaN</td>\n",
       "      <td>2016</td>\n",
       "      <td>Maruti</td>\n",
       "    </tr>\n",
       "    <tr>\n",
       "      <th>2</th>\n",
       "      <td>Hyundai Creta 1.6 SX PLUS AUTO PETROL - 2018</td>\n",
       "      <td>PLATINUM</td>\n",
       "      <td>Bangalore</td>\n",
       "      <td>1350000</td>\n",
       "      <td>42917</td>\n",
       "      <td>Petrol</td>\n",
       "      <td>NaN</td>\n",
       "      <td>2018</td>\n",
       "      <td>Hyundai</td>\n",
       "    </tr>\n",
       "    <tr>\n",
       "      <th>8</th>\n",
       "      <td>Honda Amaze - 2013</td>\n",
       "      <td>PLATINUM</td>\n",
       "      <td>Pune</td>\n",
       "      <td>393699</td>\n",
       "      <td>44940</td>\n",
       "      <td>Petrol</td>\n",
       "      <td>NaN</td>\n",
       "      <td>2013</td>\n",
       "      <td>Honda</td>\n",
       "    </tr>\n",
       "    <tr>\n",
       "      <th>16</th>\n",
       "      <td>Toyota Innova 2.5 VX BS III 7 STR - 2012</td>\n",
       "      <td>GOLD</td>\n",
       "      <td>Bangalore</td>\n",
       "      <td>1025000</td>\n",
       "      <td>131000</td>\n",
       "      <td>Diesel</td>\n",
       "      <td>NaN</td>\n",
       "      <td>2012</td>\n",
       "      <td>Toyota</td>\n",
       "    </tr>\n",
       "    <tr>\n",
       "      <th>...</th>\n",
       "      <td>...</td>\n",
       "      <td>...</td>\n",
       "      <td>...</td>\n",
       "      <td>...</td>\n",
       "      <td>...</td>\n",
       "      <td>...</td>\n",
       "      <td>...</td>\n",
       "      <td>...</td>\n",
       "      <td>...</td>\n",
       "    </tr>\n",
       "    <tr>\n",
       "      <th>1007</th>\n",
       "      <td>Maruti Suzuki Alto Std BS IV - 2007</td>\n",
       "      <td>GOLD</td>\n",
       "      <td>Bangalore</td>\n",
       "      <td>88000</td>\n",
       "      <td>85000</td>\n",
       "      <td>Petrol</td>\n",
       "      <td>NaN</td>\n",
       "      <td>2007</td>\n",
       "      <td>Maruti</td>\n",
       "    </tr>\n",
       "    <tr>\n",
       "      <th>1024</th>\n",
       "      <td>Mahindra Xylo D2 BS IV - 2009</td>\n",
       "      <td>GOLD</td>\n",
       "      <td>Trichy</td>\n",
       "      <td>375000</td>\n",
       "      <td>115000</td>\n",
       "      <td>Diesel</td>\n",
       "      <td>NaN</td>\n",
       "      <td>2009</td>\n",
       "      <td>Mahindra</td>\n",
       "    </tr>\n",
       "    <tr>\n",
       "      <th>1025</th>\n",
       "      <td>Maruti Suzuki Eeco 5 STR - 2020</td>\n",
       "      <td>GOLD</td>\n",
       "      <td>Trichy</td>\n",
       "      <td>525000</td>\n",
       "      <td>13000</td>\n",
       "      <td>Petrol</td>\n",
       "      <td>NaN</td>\n",
       "      <td>2020</td>\n",
       "      <td>Maruti</td>\n",
       "    </tr>\n",
       "    <tr>\n",
       "      <th>1026</th>\n",
       "      <td>Maruti Suzuki Swift VDi ABS - 2018</td>\n",
       "      <td>GOLD</td>\n",
       "      <td>Delhi</td>\n",
       "      <td>550000</td>\n",
       "      <td>42000</td>\n",
       "      <td>Diesel</td>\n",
       "      <td>NaN</td>\n",
       "      <td>2018</td>\n",
       "      <td>Maruti</td>\n",
       "    </tr>\n",
       "    <tr>\n",
       "      <th>1028</th>\n",
       "      <td>Maruti Suzuki Alto K10 LXi CNG - 2014</td>\n",
       "      <td>GOLD</td>\n",
       "      <td>Bangalore</td>\n",
       "      <td>275000</td>\n",
       "      <td>60000</td>\n",
       "      <td>Petrol</td>\n",
       "      <td>NaN</td>\n",
       "      <td>2014</td>\n",
       "      <td>Maruti</td>\n",
       "    </tr>\n",
       "  </tbody>\n",
       "</table>\n",
       "<p>288 rows × 9 columns</p>\n",
       "</div>"
      ],
      "text/plain": [
       "                                              Name     Label   Location  \\\n",
       "0          Ford Figo Duratec Petrol EXI 1.2 - 2015  PLATINUM  Bangalore   \n",
       "1           Maruti Suzuki Wagon R VXI BS IV - 2016  PLATINUM  Bangalore   \n",
       "2     Hyundai Creta 1.6 SX PLUS AUTO PETROL - 2018  PLATINUM  Bangalore   \n",
       "8                               Honda Amaze - 2013  PLATINUM       Pune   \n",
       "16        Toyota Innova 2.5 VX BS III 7 STR - 2012      GOLD  Bangalore   \n",
       "...                                            ...       ...        ...   \n",
       "1007           Maruti Suzuki Alto Std BS IV - 2007      GOLD  Bangalore   \n",
       "1024                 Mahindra Xylo D2 BS IV - 2009      GOLD     Trichy   \n",
       "1025               Maruti Suzuki Eeco 5 STR - 2020      GOLD     Trichy   \n",
       "1026            Maruti Suzuki Swift VDi ABS - 2018      GOLD      Delhi   \n",
       "1028         Maruti Suzuki Alto K10 LXi CNG - 2014      GOLD  Bangalore   \n",
       "\n",
       "        Price  Kms_driven Fuel_type Owner  Year   Company  \n",
       "0      380000       35056    Petrol   NaN  2015      Ford  \n",
       "1      465000       44000    Petrol   NaN  2016    Maruti  \n",
       "2     1350000       42917    Petrol   NaN  2018   Hyundai  \n",
       "8      393699       44940    Petrol   NaN  2013     Honda  \n",
       "16    1025000      131000    Diesel   NaN  2012    Toyota  \n",
       "...       ...         ...       ...   ...   ...       ...  \n",
       "1007    88000       85000    Petrol   NaN  2007    Maruti  \n",
       "1024   375000      115000    Diesel   NaN  2009  Mahindra  \n",
       "1025   525000       13000    Petrol   NaN  2020    Maruti  \n",
       "1026   550000       42000    Diesel   NaN  2018    Maruti  \n",
       "1028   275000       60000    Petrol   NaN  2014    Maruti  \n",
       "\n",
       "[288 rows x 9 columns]"
      ]
     },
     "execution_count": 33,
     "metadata": {},
     "output_type": "execute_result"
    }
   ],
   "source": [
    "df[df['Owner'].isna()]"
   ]
  },
  {
   "cell_type": "code",
   "execution_count": 34,
   "metadata": {
    "execution": {
     "iopub.execute_input": "2022-05-11T12:05:12.547340Z",
     "iopub.status.busy": "2022-05-11T12:05:12.546450Z",
     "iopub.status.idle": "2022-05-11T12:05:12.555463Z",
     "shell.execute_reply": "2022-05-11T12:05:12.554818Z",
     "shell.execute_reply.started": "2022-05-11T12:05:12.547303Z"
    }
   },
   "outputs": [
    {
     "data": {
      "text/plain": [
       "array([nan, ' 2nd Owner', ' 1st Owner', ' 3rd Owner'], dtype=object)"
      ]
     },
     "execution_count": 34,
     "metadata": {},
     "output_type": "execute_result"
    }
   ],
   "source": [
    "df['Owner'].unique()"
   ]
  },
  {
   "cell_type": "markdown",
   "metadata": {},
   "source": [
    "So the owner column is storing the information of the number of times, the car has been sold based on the owner number.\n",
    "\n",
    "## Missing data handling \n",
    "#### Dropping this column for now as I feel it isn't that important. Since no one asks for the number of previous owners while buying a car. "
   ]
  },
  {
   "cell_type": "code",
   "execution_count": 35,
   "metadata": {
    "execution": {
     "iopub.execute_input": "2022-05-11T12:05:12.557020Z",
     "iopub.status.busy": "2022-05-11T12:05:12.556518Z",
     "iopub.status.idle": "2022-05-11T12:05:12.565832Z",
     "shell.execute_reply": "2022-05-11T12:05:12.565111Z",
     "shell.execute_reply.started": "2022-05-11T12:05:12.556984Z"
    }
   },
   "outputs": [],
   "source": [
    "df = df.drop(['Owner'],axis=1)"
   ]
  },
  {
   "cell_type": "code",
   "execution_count": 36,
   "metadata": {
    "execution": {
     "iopub.execute_input": "2022-05-11T12:05:12.567313Z",
     "iopub.status.busy": "2022-05-11T12:05:12.567058Z",
     "iopub.status.idle": "2022-05-11T12:05:12.586886Z",
     "shell.execute_reply": "2022-05-11T12:05:12.586209Z",
     "shell.execute_reply.started": "2022-05-11T12:05:12.567282Z"
    }
   },
   "outputs": [
    {
     "data": {
      "text/html": [
       "<div>\n",
       "<style scoped>\n",
       "    .dataframe tbody tr th:only-of-type {\n",
       "        vertical-align: middle;\n",
       "    }\n",
       "\n",
       "    .dataframe tbody tr th {\n",
       "        vertical-align: top;\n",
       "    }\n",
       "\n",
       "    .dataframe thead th {\n",
       "        text-align: right;\n",
       "    }\n",
       "</style>\n",
       "<table border=\"1\" class=\"dataframe\">\n",
       "  <thead>\n",
       "    <tr style=\"text-align: right;\">\n",
       "      <th></th>\n",
       "      <th>Name</th>\n",
       "      <th>Label</th>\n",
       "      <th>Location</th>\n",
       "      <th>Price</th>\n",
       "      <th>Kms_driven</th>\n",
       "      <th>Fuel_type</th>\n",
       "      <th>Year</th>\n",
       "      <th>Company</th>\n",
       "    </tr>\n",
       "  </thead>\n",
       "  <tbody>\n",
       "    <tr>\n",
       "      <th>283</th>\n",
       "      <td>Maruti Suzuki Maruti 800 Std BSII - 2005</td>\n",
       "      <td>GOLD</td>\n",
       "      <td>NaN</td>\n",
       "      <td>65000</td>\n",
       "      <td>108252</td>\n",
       "      <td>Petrol</td>\n",
       "      <td>2005</td>\n",
       "      <td>Maruti</td>\n",
       "    </tr>\n",
       "    <tr>\n",
       "      <th>887</th>\n",
       "      <td>Honda City ZX CVT Petrol - 2018</td>\n",
       "      <td>GOLD</td>\n",
       "      <td>NaN</td>\n",
       "      <td>1069999</td>\n",
       "      <td>54000</td>\n",
       "      <td>CNG</td>\n",
       "      <td>2018</td>\n",
       "      <td>Honda</td>\n",
       "    </tr>\n",
       "  </tbody>\n",
       "</table>\n",
       "</div>"
      ],
      "text/plain": [
       "                                         Name Label Location    Price  \\\n",
       "283  Maruti Suzuki Maruti 800 Std BSII - 2005  GOLD      NaN    65000   \n",
       "887           Honda City ZX CVT Petrol - 2018  GOLD      NaN  1069999   \n",
       "\n",
       "     Kms_driven Fuel_type  Year Company  \n",
       "283      108252    Petrol  2005  Maruti  \n",
       "887       54000      CNG   2018   Honda  "
      ]
     },
     "execution_count": 36,
     "metadata": {},
     "output_type": "execute_result"
    }
   ],
   "source": [
    "df[df['Location'].isnull()]"
   ]
  },
  {
   "cell_type": "code",
   "execution_count": 37,
   "metadata": {
    "execution": {
     "iopub.execute_input": "2022-05-11T12:05:12.588672Z",
     "iopub.status.busy": "2022-05-11T12:05:12.588030Z",
     "iopub.status.idle": "2022-05-11T12:05:12.593232Z",
     "shell.execute_reply": "2022-05-11T12:05:12.592526Z",
     "shell.execute_reply.started": "2022-05-11T12:05:12.588638Z"
    }
   },
   "outputs": [],
   "source": [
    "df = df.drop([283,887])"
   ]
  },
  {
   "cell_type": "code",
   "execution_count": 38,
   "metadata": {
    "execution": {
     "iopub.execute_input": "2022-05-11T12:05:12.598168Z",
     "iopub.status.busy": "2022-05-11T12:05:12.597483Z",
     "iopub.status.idle": "2022-05-11T12:05:12.609726Z",
     "shell.execute_reply": "2022-05-11T12:05:12.609092Z",
     "shell.execute_reply.started": "2022-05-11T12:05:12.598130Z"
    }
   },
   "outputs": [
    {
     "data": {
      "text/html": [
       "<div>\n",
       "<style scoped>\n",
       "    .dataframe tbody tr th:only-of-type {\n",
       "        vertical-align: middle;\n",
       "    }\n",
       "\n",
       "    .dataframe tbody tr th {\n",
       "        vertical-align: top;\n",
       "    }\n",
       "\n",
       "    .dataframe thead th {\n",
       "        text-align: right;\n",
       "    }\n",
       "</style>\n",
       "<table border=\"1\" class=\"dataframe\">\n",
       "  <thead>\n",
       "    <tr style=\"text-align: right;\">\n",
       "      <th></th>\n",
       "      <th>Name</th>\n",
       "      <th>Label</th>\n",
       "      <th>Location</th>\n",
       "      <th>Price</th>\n",
       "      <th>Kms_driven</th>\n",
       "      <th>Fuel_type</th>\n",
       "      <th>Year</th>\n",
       "      <th>Company</th>\n",
       "    </tr>\n",
       "  </thead>\n",
       "  <tbody>\n",
       "  </tbody>\n",
       "</table>\n",
       "</div>"
      ],
      "text/plain": [
       "Empty DataFrame\n",
       "Columns: [Name, Label, Location, Price, Kms_driven, Fuel_type, Year, Company]\n",
       "Index: []"
      ]
     },
     "execution_count": 38,
     "metadata": {},
     "output_type": "execute_result"
    }
   ],
   "source": [
    "df[df['Location'].isnull()]"
   ]
  },
  {
   "cell_type": "code",
   "execution_count": 39,
   "metadata": {
    "execution": {
     "iopub.execute_input": "2022-05-11T12:05:12.611539Z",
     "iopub.status.busy": "2022-05-11T12:05:12.610739Z",
     "iopub.status.idle": "2022-05-11T12:05:12.625760Z",
     "shell.execute_reply": "2022-05-11T12:05:12.624857Z",
     "shell.execute_reply.started": "2022-05-11T12:05:12.611500Z"
    }
   },
   "outputs": [
    {
     "data": {
      "text/plain": [
       "Name          0\n",
       "Label         0\n",
       "Location      0\n",
       "Price         0\n",
       "Kms_driven    0\n",
       "Fuel_type     0\n",
       "Year          0\n",
       "Company       0\n",
       "dtype: int64"
      ]
     },
     "execution_count": 39,
     "metadata": {},
     "output_type": "execute_result"
    }
   ],
   "source": [
    "df.isnull().sum()"
   ]
  },
  {
   "cell_type": "markdown",
   "metadata": {},
   "source": [
    "#### Our data is pre-processed and its time for EDA!!!"
   ]
  },
  {
   "cell_type": "markdown",
   "metadata": {},
   "source": [
    "### Plotting the locations vs Count of States"
   ]
  },
  {
   "cell_type": "code",
   "execution_count": 40,
   "metadata": {
    "execution": {
     "iopub.execute_input": "2022-05-11T12:05:12.627826Z",
     "iopub.status.busy": "2022-05-11T12:05:12.627021Z",
     "iopub.status.idle": "2022-05-11T12:05:12.635903Z",
     "shell.execute_reply": "2022-05-11T12:05:12.634957Z",
     "shell.execute_reply.started": "2022-05-11T12:05:12.627783Z"
    }
   },
   "outputs": [
    {
     "data": {
      "text/plain": [
       "array(['Bangalore', 'Chennai', 'Pune', 'Hyderabad', 'Faridabad',\n",
       "       'Kanchipuram', 'Kozhikode', 'Kolkata', 'Mumbai', 'Lucknow',\n",
       "       'Coimbatore', 'Delhi', 'Nanded', 'Malappuram', 'Chandigarh',\n",
       "       'Madurai', 'BolpurSantiniketan', 'Bhubaneswar', 'Pondicherry',\n",
       "       'Udaipur', 'NaviMumbai', 'Gurgaon', 'Kurnool', 'Surat',\n",
       "       'Ahmedabad', 'Jaipur', 'Thane', 'Nagpur', 'Dwarka', 'GirSomnath',\n",
       "       'Anand', 'Muzaffarnagar', 'Trichy', 'Uttarpara', 'Kochi',\n",
       "       'Dhanbad', 'Mahasamund', 'Bilaspur', 'Jagdalpur'], dtype=object)"
      ]
     },
     "execution_count": 40,
     "metadata": {},
     "output_type": "execute_result"
    }
   ],
   "source": [
    "locations = df['Location'].unique()\n",
    "locations"
   ]
  },
  {
   "cell_type": "code",
   "execution_count": 41,
   "metadata": {},
   "outputs": [],
   "source": [
    "city_state = {\n",
    "    'Bangalore':'Karnataka',\n",
    "    'Chennai':'Tamil Nadu',\n",
    "    'Pune':'Maharashtra',\n",
    "    'Hyderabad':'Andhra Pradesh',\n",
    "    'Faridabad':'Haryana',\n",
    "    'Kanchipuram':'Tamil Nadu',\n",
    "    'Kozhikode':'Kerala',\n",
    "    'Kolkata':'West Bengal',\n",
    "    'Mumbai':'Maharashtra',\n",
    "    'Lucknow':'Uttar Pradesh',\n",
    "    'Coimbatore':'Tamil Nadu',\n",
    "    'Delhi':'NCT of Delhi',\n",
    "    'Nanded':'Maharashtra',\n",
    "    'Malappuram':'Kerala',\n",
    "    'Chandigarh':'Haryana',\n",
    "    'Madurai':'Tamil Nadu',\n",
    "    'BolpurSantiniketan':'West Bengal',\n",
    "    'Bhubaneswar':'Odisha',\n",
    "    'Pondicherry':'Puducherry',\n",
    "    'Udaipur':'Tripura',\n",
    "    'NaviMumbai':'Maharashtra',\n",
    "    'Gurgaon':'Haryana',\n",
    "    'Kurnool':'Andhra Pradesh',\n",
    "    'Surat':'Gujarat',\n",
    "    'Ahmedabad':'Gujarat',\n",
    "    'Jaipur':'Rajasthan',\n",
    "    'Thane':'Maharashtra',\n",
    "    'Nagpur':'Maharashtra',\n",
    "    'Dwarka':'Gujarat',\n",
    "    'GirSomnath':'Gujarat',\n",
    "    'Anand':'Gujarat',\n",
    "    'Muzaffarnagar':'Bihar',\n",
    "    'Trichy':'Tamil Nadu',\n",
    "    'Uttarpara':'West Bengal',\n",
    "    'Kochi':'Kerala',\n",
    "    'Dhanbad':'Jharkhand',\n",
    "    'Mahasamund':'Chhattisgarh',\n",
    "    'Bilaspur':'Chhattisgarh',\n",
    "    'Jagdalpur':'Chhattisgarh',\n",
    "}"
   ]
  },
  {
   "cell_type": "code",
   "execution_count": 42,
   "metadata": {},
   "outputs": [],
   "source": [
    "count = []\n",
    "states = []\n",
    "for city in locations:\n",
    "    count += [len(df[df['Location']==city])]\n",
    "    states += [city_state[city]]"
   ]
  },
  {
   "cell_type": "code",
   "execution_count": 43,
   "metadata": {
    "execution": {
     "iopub.execute_input": "2022-05-11T12:05:12.686898Z",
     "iopub.status.busy": "2022-05-11T12:05:12.686289Z",
     "iopub.status.idle": "2022-05-11T12:05:12.700189Z",
     "shell.execute_reply": "2022-05-11T12:05:12.699394Z",
     "shell.execute_reply.started": "2022-05-11T12:05:12.686865Z"
    }
   },
   "outputs": [
    {
     "data": {
      "text/html": [
       "<div>\n",
       "<style scoped>\n",
       "    .dataframe tbody tr th:only-of-type {\n",
       "        vertical-align: middle;\n",
       "    }\n",
       "\n",
       "    .dataframe tbody tr th {\n",
       "        vertical-align: top;\n",
       "    }\n",
       "\n",
       "    .dataframe thead th {\n",
       "        text-align: right;\n",
       "    }\n",
       "</style>\n",
       "<table border=\"1\" class=\"dataframe\">\n",
       "  <thead>\n",
       "    <tr style=\"text-align: right;\">\n",
       "      <th></th>\n",
       "      <th>States</th>\n",
       "      <th>Count</th>\n",
       "    </tr>\n",
       "  </thead>\n",
       "  <tbody>\n",
       "    <tr>\n",
       "      <th>0</th>\n",
       "      <td>Karnataka</td>\n",
       "      <td>256</td>\n",
       "    </tr>\n",
       "    <tr>\n",
       "      <th>1</th>\n",
       "      <td>Tamil Nadu</td>\n",
       "      <td>312</td>\n",
       "    </tr>\n",
       "    <tr>\n",
       "      <th>2</th>\n",
       "      <td>Maharashtra</td>\n",
       "      <td>323</td>\n",
       "    </tr>\n",
       "    <tr>\n",
       "      <th>3</th>\n",
       "      <td>Andhra Pradesh</td>\n",
       "      <td>11</td>\n",
       "    </tr>\n",
       "    <tr>\n",
       "      <th>4</th>\n",
       "      <td>Haryana</td>\n",
       "      <td>1</td>\n",
       "    </tr>\n",
       "    <tr>\n",
       "      <th>5</th>\n",
       "      <td>Tamil Nadu</td>\n",
       "      <td>1</td>\n",
       "    </tr>\n",
       "    <tr>\n",
       "      <th>6</th>\n",
       "      <td>Kerala</td>\n",
       "      <td>2</td>\n",
       "    </tr>\n",
       "    <tr>\n",
       "      <th>7</th>\n",
       "      <td>West Bengal</td>\n",
       "      <td>19</td>\n",
       "    </tr>\n",
       "    <tr>\n",
       "      <th>8</th>\n",
       "      <td>Maharashtra</td>\n",
       "      <td>19</td>\n",
       "    </tr>\n",
       "    <tr>\n",
       "      <th>9</th>\n",
       "      <td>Uttar Pradesh</td>\n",
       "      <td>2</td>\n",
       "    </tr>\n",
       "    <tr>\n",
       "      <th>10</th>\n",
       "      <td>Tamil Nadu</td>\n",
       "      <td>1</td>\n",
       "    </tr>\n",
       "    <tr>\n",
       "      <th>11</th>\n",
       "      <td>NCT of Delhi</td>\n",
       "      <td>10</td>\n",
       "    </tr>\n",
       "    <tr>\n",
       "      <th>12</th>\n",
       "      <td>Maharashtra</td>\n",
       "      <td>1</td>\n",
       "    </tr>\n",
       "    <tr>\n",
       "      <th>13</th>\n",
       "      <td>Kerala</td>\n",
       "      <td>1</td>\n",
       "    </tr>\n",
       "    <tr>\n",
       "      <th>14</th>\n",
       "      <td>Haryana</td>\n",
       "      <td>1</td>\n",
       "    </tr>\n",
       "    <tr>\n",
       "      <th>15</th>\n",
       "      <td>Tamil Nadu</td>\n",
       "      <td>12</td>\n",
       "    </tr>\n",
       "    <tr>\n",
       "      <th>16</th>\n",
       "      <td>West Bengal</td>\n",
       "      <td>1</td>\n",
       "    </tr>\n",
       "    <tr>\n",
       "      <th>17</th>\n",
       "      <td>Odisha</td>\n",
       "      <td>2</td>\n",
       "    </tr>\n",
       "    <tr>\n",
       "      <th>18</th>\n",
       "      <td>Puducherry</td>\n",
       "      <td>2</td>\n",
       "    </tr>\n",
       "    <tr>\n",
       "      <th>19</th>\n",
       "      <td>Tripura</td>\n",
       "      <td>1</td>\n",
       "    </tr>\n",
       "    <tr>\n",
       "      <th>20</th>\n",
       "      <td>Maharashtra</td>\n",
       "      <td>3</td>\n",
       "    </tr>\n",
       "    <tr>\n",
       "      <th>21</th>\n",
       "      <td>Haryana</td>\n",
       "      <td>1</td>\n",
       "    </tr>\n",
       "    <tr>\n",
       "      <th>22</th>\n",
       "      <td>Andhra Pradesh</td>\n",
       "      <td>1</td>\n",
       "    </tr>\n",
       "    <tr>\n",
       "      <th>23</th>\n",
       "      <td>Gujarat</td>\n",
       "      <td>2</td>\n",
       "    </tr>\n",
       "    <tr>\n",
       "      <th>24</th>\n",
       "      <td>Gujarat</td>\n",
       "      <td>5</td>\n",
       "    </tr>\n",
       "    <tr>\n",
       "      <th>25</th>\n",
       "      <td>Rajasthan</td>\n",
       "      <td>10</td>\n",
       "    </tr>\n",
       "    <tr>\n",
       "      <th>26</th>\n",
       "      <td>Maharashtra</td>\n",
       "      <td>1</td>\n",
       "    </tr>\n",
       "    <tr>\n",
       "      <th>27</th>\n",
       "      <td>Maharashtra</td>\n",
       "      <td>5</td>\n",
       "    </tr>\n",
       "    <tr>\n",
       "      <th>28</th>\n",
       "      <td>Gujarat</td>\n",
       "      <td>1</td>\n",
       "    </tr>\n",
       "    <tr>\n",
       "      <th>29</th>\n",
       "      <td>Gujarat</td>\n",
       "      <td>1</td>\n",
       "    </tr>\n",
       "    <tr>\n",
       "      <th>30</th>\n",
       "      <td>Gujarat</td>\n",
       "      <td>1</td>\n",
       "    </tr>\n",
       "    <tr>\n",
       "      <th>31</th>\n",
       "      <td>Bihar</td>\n",
       "      <td>1</td>\n",
       "    </tr>\n",
       "    <tr>\n",
       "      <th>32</th>\n",
       "      <td>Tamil Nadu</td>\n",
       "      <td>8</td>\n",
       "    </tr>\n",
       "    <tr>\n",
       "      <th>33</th>\n",
       "      <td>West Bengal</td>\n",
       "      <td>1</td>\n",
       "    </tr>\n",
       "    <tr>\n",
       "      <th>34</th>\n",
       "      <td>Kerala</td>\n",
       "      <td>1</td>\n",
       "    </tr>\n",
       "    <tr>\n",
       "      <th>35</th>\n",
       "      <td>Jharkhand</td>\n",
       "      <td>1</td>\n",
       "    </tr>\n",
       "    <tr>\n",
       "      <th>36</th>\n",
       "      <td>Chhattisgarh</td>\n",
       "      <td>1</td>\n",
       "    </tr>\n",
       "    <tr>\n",
       "      <th>37</th>\n",
       "      <td>Chhattisgarh</td>\n",
       "      <td>1</td>\n",
       "    </tr>\n",
       "    <tr>\n",
       "      <th>38</th>\n",
       "      <td>Chhattisgarh</td>\n",
       "      <td>1</td>\n",
       "    </tr>\n",
       "  </tbody>\n",
       "</table>\n",
       "</div>"
      ],
      "text/plain": [
       "            States  Count\n",
       "0        Karnataka    256\n",
       "1       Tamil Nadu    312\n",
       "2      Maharashtra    323\n",
       "3   Andhra Pradesh     11\n",
       "4          Haryana      1\n",
       "5       Tamil Nadu      1\n",
       "6           Kerala      2\n",
       "7      West Bengal     19\n",
       "8      Maharashtra     19\n",
       "9    Uttar Pradesh      2\n",
       "10      Tamil Nadu      1\n",
       "11    NCT of Delhi     10\n",
       "12     Maharashtra      1\n",
       "13          Kerala      1\n",
       "14         Haryana      1\n",
       "15      Tamil Nadu     12\n",
       "16     West Bengal      1\n",
       "17          Odisha      2\n",
       "18      Puducherry      2\n",
       "19         Tripura      1\n",
       "20     Maharashtra      3\n",
       "21         Haryana      1\n",
       "22  Andhra Pradesh      1\n",
       "23         Gujarat      2\n",
       "24         Gujarat      5\n",
       "25       Rajasthan     10\n",
       "26     Maharashtra      1\n",
       "27     Maharashtra      5\n",
       "28         Gujarat      1\n",
       "29         Gujarat      1\n",
       "30         Gujarat      1\n",
       "31           Bihar      1\n",
       "32      Tamil Nadu      8\n",
       "33     West Bengal      1\n",
       "34          Kerala      1\n",
       "35       Jharkhand      1\n",
       "36    Chhattisgarh      1\n",
       "37    Chhattisgarh      1\n",
       "38    Chhattisgarh      1"
      ]
     },
     "execution_count": 43,
     "metadata": {},
     "output_type": "execute_result"
    }
   ],
   "source": [
    "map_df=pd.DataFrame({\n",
    "    'States': states,\n",
    "    'Count': count\n",
    "})\n",
    "map_df"
   ]
  },
  {
   "cell_type": "code",
   "execution_count": 44,
   "metadata": {
    "execution": {
     "iopub.execute_input": "2022-05-11T12:05:12.701926Z",
     "iopub.status.busy": "2022-05-11T12:05:12.701279Z",
     "iopub.status.idle": "2022-05-11T12:05:12.712693Z",
     "shell.execute_reply": "2022-05-11T12:05:12.711822Z",
     "shell.execute_reply.started": "2022-05-11T12:05:12.701886Z"
    }
   },
   "outputs": [
    {
     "data": {
      "text/plain": [
       "(39, 17)"
      ]
     },
     "execution_count": 44,
     "metadata": {},
     "output_type": "execute_result"
    }
   ],
   "source": [
    "map_df.shape[0] , len(map_df['States'].unique())"
   ]
  },
  {
   "cell_type": "code",
   "execution_count": 45,
   "metadata": {
    "execution": {
     "iopub.execute_input": "2022-05-11T12:05:12.714163Z",
     "iopub.status.busy": "2022-05-11T12:05:12.713923Z",
     "iopub.status.idle": "2022-05-11T12:05:12.731286Z",
     "shell.execute_reply": "2022-05-11T12:05:12.730576Z",
     "shell.execute_reply.started": "2022-05-11T12:05:12.714134Z"
    }
   },
   "outputs": [],
   "source": [
    "map_df = map_df.groupby(by='States').sum()\n",
    "map_df = map_df.reset_index()"
   ]
  },
  {
   "cell_type": "markdown",
   "metadata": {},
   "source": []
  },
  {
   "cell_type": "code",
   "execution_count": 46,
   "metadata": {
    "execution": {
     "iopub.execute_input": "2022-05-11T12:05:12.733345Z",
     "iopub.status.busy": "2022-05-11T12:05:12.732466Z",
     "iopub.status.idle": "2022-05-11T12:05:15.318242Z",
     "shell.execute_reply": "2022-05-11T12:05:15.317386Z",
     "shell.execute_reply.started": "2022-05-11T12:05:12.733298Z"
    }
   },
   "outputs": [
    {
     "data": {
      "text/html": [
       "<div>\n",
       "<style scoped>\n",
       "    .dataframe tbody tr th:only-of-type {\n",
       "        vertical-align: middle;\n",
       "    }\n",
       "\n",
       "    .dataframe tbody tr th {\n",
       "        vertical-align: top;\n",
       "    }\n",
       "\n",
       "    .dataframe thead th {\n",
       "        text-align: right;\n",
       "    }\n",
       "</style>\n",
       "<table border=\"1\" class=\"dataframe\">\n",
       "  <thead>\n",
       "    <tr style=\"text-align: right;\">\n",
       "      <th></th>\n",
       "      <th>st_nm</th>\n",
       "      <th>geometry</th>\n",
       "    </tr>\n",
       "  </thead>\n",
       "  <tbody>\n",
       "    <tr>\n",
       "      <th>0</th>\n",
       "      <td>Andaman &amp; Nicobar Island</td>\n",
       "      <td>MULTIPOLYGON (((93.71976 7.20707, 93.71909 7.2...</td>\n",
       "    </tr>\n",
       "    <tr>\n",
       "      <th>1</th>\n",
       "      <td>Arunanchal Pradesh</td>\n",
       "      <td>POLYGON ((96.16261 29.38078, 96.16860 29.37432...</td>\n",
       "    </tr>\n",
       "    <tr>\n",
       "      <th>2</th>\n",
       "      <td>Assam</td>\n",
       "      <td>MULTIPOLYGON (((89.74323 26.30362, 89.74290 26...</td>\n",
       "    </tr>\n",
       "    <tr>\n",
       "      <th>3</th>\n",
       "      <td>Bihar</td>\n",
       "      <td>MULTIPOLYGON (((84.50720 24.26323, 84.50355 24...</td>\n",
       "    </tr>\n",
       "    <tr>\n",
       "      <th>4</th>\n",
       "      <td>Chandigarh</td>\n",
       "      <td>POLYGON ((76.84147 30.75996, 76.83599 30.73623...</td>\n",
       "    </tr>\n",
       "    <tr>\n",
       "      <th>5</th>\n",
       "      <td>Chhattisgarh</td>\n",
       "      <td>POLYGON ((83.33532 24.09885, 83.35346 24.09627...</td>\n",
       "    </tr>\n",
       "    <tr>\n",
       "      <th>6</th>\n",
       "      <td>Dadara &amp; Nagar Havelli</td>\n",
       "      <td>POLYGON ((73.20657 20.12216, 73.20797 20.10650...</td>\n",
       "    </tr>\n",
       "    <tr>\n",
       "      <th>7</th>\n",
       "      <td>Daman &amp; Diu</td>\n",
       "      <td>MULTIPOLYGON (((72.89335 20.44539, 72.89281 20...</td>\n",
       "    </tr>\n",
       "    <tr>\n",
       "      <th>8</th>\n",
       "      <td>Goa</td>\n",
       "      <td>MULTIPOLYGON (((74.11918 14.75344, 74.11350 14...</td>\n",
       "    </tr>\n",
       "    <tr>\n",
       "      <th>9</th>\n",
       "      <td>Gujarat</td>\n",
       "      <td>MULTIPOLYGON (((71.70375 20.99958, 71.70375 20...</td>\n",
       "    </tr>\n",
       "    <tr>\n",
       "      <th>10</th>\n",
       "      <td>Haryana</td>\n",
       "      <td>POLYGON ((76.85065 30.87512, 76.86594 30.86691...</td>\n",
       "    </tr>\n",
       "    <tr>\n",
       "      <th>11</th>\n",
       "      <td>Himachal Pradesh</td>\n",
       "      <td>POLYGON ((76.79634 33.25490, 76.80351 33.25275...</td>\n",
       "    </tr>\n",
       "    <tr>\n",
       "      <th>12</th>\n",
       "      <td>Jammu &amp; Kashmir</td>\n",
       "      <td>POLYGON ((74.73451 37.02068, 74.73647 37.01937...</td>\n",
       "    </tr>\n",
       "    <tr>\n",
       "      <th>13</th>\n",
       "      <td>Jharkhand</td>\n",
       "      <td>POLYGON ((87.60582 25.31512, 87.61279 25.31184...</td>\n",
       "    </tr>\n",
       "    <tr>\n",
       "      <th>14</th>\n",
       "      <td>Karnataka</td>\n",
       "      <td>MULTIPOLYGON (((74.69694 13.32782, 74.69562 13...</td>\n",
       "    </tr>\n",
       "    <tr>\n",
       "      <th>15</th>\n",
       "      <td>Kerala</td>\n",
       "      <td>POLYGON ((74.99575 12.79227, 75.00006 12.78777...</td>\n",
       "    </tr>\n",
       "    <tr>\n",
       "      <th>16</th>\n",
       "      <td>Lakshadweep</td>\n",
       "      <td>MULTIPOLYGON (((74.10131 11.20431, 74.09908 11...</td>\n",
       "    </tr>\n",
       "    <tr>\n",
       "      <th>17</th>\n",
       "      <td>Madhya Pradesh</td>\n",
       "      <td>MULTIPOLYGON (((74.17932 22.39059, 74.17776 22...</td>\n",
       "    </tr>\n",
       "    <tr>\n",
       "      <th>18</th>\n",
       "      <td>Maharashtra</td>\n",
       "      <td>MULTIPOLYGON (((73.46270 16.03710, 73.46178 16...</td>\n",
       "    </tr>\n",
       "    <tr>\n",
       "      <th>19</th>\n",
       "      <td>Manipur</td>\n",
       "      <td>POLYGON ((94.57602 25.64221, 94.57487 25.63858...</td>\n",
       "    </tr>\n",
       "    <tr>\n",
       "      <th>20</th>\n",
       "      <td>Meghalaya</td>\n",
       "      <td>POLYGON ((91.85632 26.10353, 91.86717 26.09906...</td>\n",
       "    </tr>\n",
       "    <tr>\n",
       "      <th>21</th>\n",
       "      <td>Mizoram</td>\n",
       "      <td>POLYGON ((92.80022 24.41630, 92.80310 24.41603...</td>\n",
       "    </tr>\n",
       "    <tr>\n",
       "      <th>22</th>\n",
       "      <td>Nagaland</td>\n",
       "      <td>POLYGON ((95.21458 26.93095, 95.21719 26.92818...</td>\n",
       "    </tr>\n",
       "    <tr>\n",
       "      <th>23</th>\n",
       "      <td>NCT of Delhi</td>\n",
       "      <td>POLYGON ((77.09361 28.86940, 77.10973 28.86722...</td>\n",
       "    </tr>\n",
       "    <tr>\n",
       "      <th>24</th>\n",
       "      <td>Puducherry</td>\n",
       "      <td>MULTIPOLYGON (((79.76528 10.99681, 79.76963 10...</td>\n",
       "    </tr>\n",
       "    <tr>\n",
       "      <th>25</th>\n",
       "      <td>Punjab</td>\n",
       "      <td>POLYGON ((75.88469 32.48841, 75.90303 32.47169...</td>\n",
       "    </tr>\n",
       "    <tr>\n",
       "      <th>26</th>\n",
       "      <td>Rajasthan</td>\n",
       "      <td>POLYGON ((73.89849 29.97896, 73.90021 29.97140...</td>\n",
       "    </tr>\n",
       "    <tr>\n",
       "      <th>27</th>\n",
       "      <td>Sikkim</td>\n",
       "      <td>POLYGON ((88.65381 28.09883, 88.66265 28.08956...</td>\n",
       "    </tr>\n",
       "    <tr>\n",
       "      <th>28</th>\n",
       "      <td>Tamil Nadu</td>\n",
       "      <td>MULTIPOLYGON (((78.19188 8.72730, 78.18996 8.7...</td>\n",
       "    </tr>\n",
       "    <tr>\n",
       "      <th>29</th>\n",
       "      <td>Telangana</td>\n",
       "      <td>POLYGON ((81.05614 17.79097, 81.05834 17.75464...</td>\n",
       "    </tr>\n",
       "    <tr>\n",
       "      <th>30</th>\n",
       "      <td>Tripura</td>\n",
       "      <td>POLYGON ((92.22108 24.50131, 92.22771 24.49862...</td>\n",
       "    </tr>\n",
       "    <tr>\n",
       "      <th>31</th>\n",
       "      <td>Uttar Pradesh</td>\n",
       "      <td>MULTIPOLYGON (((80.44802 24.99631, 80.44080 24...</td>\n",
       "    </tr>\n",
       "    <tr>\n",
       "      <th>32</th>\n",
       "      <td>Uttarakhand</td>\n",
       "      <td>POLYGON ((79.21047 31.34846, 79.21386 31.34680...</td>\n",
       "    </tr>\n",
       "    <tr>\n",
       "      <th>33</th>\n",
       "      <td>West Bengal</td>\n",
       "      <td>MULTIPOLYGON (((88.01861 21.57278, 88.01889 21...</td>\n",
       "    </tr>\n",
       "    <tr>\n",
       "      <th>34</th>\n",
       "      <td>Odisha</td>\n",
       "      <td>MULTIPOLYGON (((86.38937 19.96351, 86.38840 19...</td>\n",
       "    </tr>\n",
       "    <tr>\n",
       "      <th>35</th>\n",
       "      <td>Andhra Pradesh</td>\n",
       "      <td>MULTIPOLYGON (((81.10380 17.82269, 81.10610 17...</td>\n",
       "    </tr>\n",
       "  </tbody>\n",
       "</table>\n",
       "</div>"
      ],
      "text/plain": [
       "                       st_nm  \\\n",
       "0   Andaman & Nicobar Island   \n",
       "1         Arunanchal Pradesh   \n",
       "2                      Assam   \n",
       "3                      Bihar   \n",
       "4                 Chandigarh   \n",
       "5               Chhattisgarh   \n",
       "6     Dadara & Nagar Havelli   \n",
       "7                Daman & Diu   \n",
       "8                        Goa   \n",
       "9                    Gujarat   \n",
       "10                   Haryana   \n",
       "11          Himachal Pradesh   \n",
       "12           Jammu & Kashmir   \n",
       "13                 Jharkhand   \n",
       "14                 Karnataka   \n",
       "15                    Kerala   \n",
       "16               Lakshadweep   \n",
       "17            Madhya Pradesh   \n",
       "18               Maharashtra   \n",
       "19                   Manipur   \n",
       "20                 Meghalaya   \n",
       "21                   Mizoram   \n",
       "22                  Nagaland   \n",
       "23              NCT of Delhi   \n",
       "24                Puducherry   \n",
       "25                    Punjab   \n",
       "26                 Rajasthan   \n",
       "27                    Sikkim   \n",
       "28                Tamil Nadu   \n",
       "29                 Telangana   \n",
       "30                   Tripura   \n",
       "31             Uttar Pradesh   \n",
       "32               Uttarakhand   \n",
       "33               West Bengal   \n",
       "34                    Odisha   \n",
       "35            Andhra Pradesh   \n",
       "\n",
       "                                             geometry  \n",
       "0   MULTIPOLYGON (((93.71976 7.20707, 93.71909 7.2...  \n",
       "1   POLYGON ((96.16261 29.38078, 96.16860 29.37432...  \n",
       "2   MULTIPOLYGON (((89.74323 26.30362, 89.74290 26...  \n",
       "3   MULTIPOLYGON (((84.50720 24.26323, 84.50355 24...  \n",
       "4   POLYGON ((76.84147 30.75996, 76.83599 30.73623...  \n",
       "5   POLYGON ((83.33532 24.09885, 83.35346 24.09627...  \n",
       "6   POLYGON ((73.20657 20.12216, 73.20797 20.10650...  \n",
       "7   MULTIPOLYGON (((72.89335 20.44539, 72.89281 20...  \n",
       "8   MULTIPOLYGON (((74.11918 14.75344, 74.11350 14...  \n",
       "9   MULTIPOLYGON (((71.70375 20.99958, 71.70375 20...  \n",
       "10  POLYGON ((76.85065 30.87512, 76.86594 30.86691...  \n",
       "11  POLYGON ((76.79634 33.25490, 76.80351 33.25275...  \n",
       "12  POLYGON ((74.73451 37.02068, 74.73647 37.01937...  \n",
       "13  POLYGON ((87.60582 25.31512, 87.61279 25.31184...  \n",
       "14  MULTIPOLYGON (((74.69694 13.32782, 74.69562 13...  \n",
       "15  POLYGON ((74.99575 12.79227, 75.00006 12.78777...  \n",
       "16  MULTIPOLYGON (((74.10131 11.20431, 74.09908 11...  \n",
       "17  MULTIPOLYGON (((74.17932 22.39059, 74.17776 22...  \n",
       "18  MULTIPOLYGON (((73.46270 16.03710, 73.46178 16...  \n",
       "19  POLYGON ((94.57602 25.64221, 94.57487 25.63858...  \n",
       "20  POLYGON ((91.85632 26.10353, 91.86717 26.09906...  \n",
       "21  POLYGON ((92.80022 24.41630, 92.80310 24.41603...  \n",
       "22  POLYGON ((95.21458 26.93095, 95.21719 26.92818...  \n",
       "23  POLYGON ((77.09361 28.86940, 77.10973 28.86722...  \n",
       "24  MULTIPOLYGON (((79.76528 10.99681, 79.76963 10...  \n",
       "25  POLYGON ((75.88469 32.48841, 75.90303 32.47169...  \n",
       "26  POLYGON ((73.89849 29.97896, 73.90021 29.97140...  \n",
       "27  POLYGON ((88.65381 28.09883, 88.66265 28.08956...  \n",
       "28  MULTIPOLYGON (((78.19188 8.72730, 78.18996 8.7...  \n",
       "29  POLYGON ((81.05614 17.79097, 81.05834 17.75464...  \n",
       "30  POLYGON ((92.22108 24.50131, 92.22771 24.49862...  \n",
       "31  MULTIPOLYGON (((80.44802 24.99631, 80.44080 24...  \n",
       "32  POLYGON ((79.21047 31.34846, 79.21386 31.34680...  \n",
       "33  MULTIPOLYGON (((88.01861 21.57278, 88.01889 21...  \n",
       "34  MULTIPOLYGON (((86.38937 19.96351, 86.38840 19...  \n",
       "35  MULTIPOLYGON (((81.10380 17.82269, 81.10610 17...  "
      ]
     },
     "execution_count": 46,
     "metadata": {},
     "output_type": "execute_result"
    }
   ],
   "source": [
    "shp_gdf = gpd.read_file(r'C:\\Users\\Rupam\\Python-Workspace\\Car_Sale_project\\India_States\\Indian_states.shp')\n",
    "shp_gdf"
   ]
  },
  {
   "cell_type": "code",
   "execution_count": 47,
   "metadata": {
    "execution": {
     "iopub.execute_input": "2022-05-11T12:05:15.319794Z",
     "iopub.status.busy": "2022-05-11T12:05:15.319515Z",
     "iopub.status.idle": "2022-05-11T12:05:15.796098Z",
     "shell.execute_reply": "2022-05-11T12:05:15.795240Z",
     "shell.execute_reply.started": "2022-05-11T12:05:15.319764Z"
    }
   },
   "outputs": [
    {
     "data": {
      "text/html": [
       "<div>\n",
       "<style scoped>\n",
       "    .dataframe tbody tr th:only-of-type {\n",
       "        vertical-align: middle;\n",
       "    }\n",
       "\n",
       "    .dataframe tbody tr th {\n",
       "        vertical-align: top;\n",
       "    }\n",
       "\n",
       "    .dataframe thead th {\n",
       "        text-align: right;\n",
       "    }\n",
       "</style>\n",
       "<table border=\"1\" class=\"dataframe\">\n",
       "  <thead>\n",
       "    <tr style=\"text-align: right;\">\n",
       "      <th></th>\n",
       "      <th>geometry</th>\n",
       "      <th>Count</th>\n",
       "    </tr>\n",
       "    <tr>\n",
       "      <th>st_nm</th>\n",
       "      <th></th>\n",
       "      <th></th>\n",
       "    </tr>\n",
       "  </thead>\n",
       "  <tbody>\n",
       "    <tr>\n",
       "      <th>Andaman &amp; Nicobar Island</th>\n",
       "      <td>MULTIPOLYGON (((93.71976 7.20707, 93.71909 7.2...</td>\n",
       "      <td>NaN</td>\n",
       "    </tr>\n",
       "    <tr>\n",
       "      <th>Arunanchal Pradesh</th>\n",
       "      <td>POLYGON ((96.16261 29.38078, 96.16860 29.37432...</td>\n",
       "      <td>NaN</td>\n",
       "    </tr>\n",
       "    <tr>\n",
       "      <th>Assam</th>\n",
       "      <td>MULTIPOLYGON (((89.74323 26.30362, 89.74290 26...</td>\n",
       "      <td>NaN</td>\n",
       "    </tr>\n",
       "    <tr>\n",
       "      <th>Bihar</th>\n",
       "      <td>MULTIPOLYGON (((84.50720 24.26323, 84.50355 24...</td>\n",
       "      <td>1.0</td>\n",
       "    </tr>\n",
       "    <tr>\n",
       "      <th>Chandigarh</th>\n",
       "      <td>POLYGON ((76.84147 30.75996, 76.83599 30.73623...</td>\n",
       "      <td>NaN</td>\n",
       "    </tr>\n",
       "  </tbody>\n",
       "</table>\n",
       "</div>"
      ],
      "text/plain": [
       "                                                                   geometry  \\\n",
       "st_nm                                                                         \n",
       "Andaman & Nicobar Island  MULTIPOLYGON (((93.71976 7.20707, 93.71909 7.2...   \n",
       "Arunanchal Pradesh        POLYGON ((96.16261 29.38078, 96.16860 29.37432...   \n",
       "Assam                     MULTIPOLYGON (((89.74323 26.30362, 89.74290 26...   \n",
       "Bihar                     MULTIPOLYGON (((84.50720 24.26323, 84.50355 24...   \n",
       "Chandigarh                POLYGON ((76.84147 30.75996, 76.83599 30.73623...   \n",
       "\n",
       "                          Count  \n",
       "st_nm                            \n",
       "Andaman & Nicobar Island    NaN  \n",
       "Arunanchal Pradesh          NaN  \n",
       "Assam                       NaN  \n",
       "Bihar                       1.0  \n",
       "Chandigarh                  NaN  "
      ]
     },
     "execution_count": 47,
     "metadata": {},
     "output_type": "execute_result"
    }
   ],
   "source": [
    "merged = shp_gdf.set_index('st_nm').join(map_df.set_index('States'))\n",
    "merged.head()"
   ]
  },
  {
   "cell_type": "code",
   "execution_count": 48,
   "metadata": {
    "execution": {
     "iopub.execute_input": "2022-05-11T12:05:15.798016Z",
     "iopub.status.busy": "2022-05-11T12:05:15.797694Z",
     "iopub.status.idle": "2022-05-11T12:05:15.804745Z",
     "shell.execute_reply": "2022-05-11T12:05:15.804005Z",
     "shell.execute_reply.started": "2022-05-11T12:05:15.797972Z"
    }
   },
   "outputs": [],
   "source": [
    "merged = merged.fillna(0)"
   ]
  },
  {
   "cell_type": "code",
   "execution_count": 49,
   "metadata": {},
   "outputs": [
    {
     "data": {
      "text/html": [
       "<div>\n",
       "<style scoped>\n",
       "    .dataframe tbody tr th:only-of-type {\n",
       "        vertical-align: middle;\n",
       "    }\n",
       "\n",
       "    .dataframe tbody tr th {\n",
       "        vertical-align: top;\n",
       "    }\n",
       "\n",
       "    .dataframe thead th {\n",
       "        text-align: right;\n",
       "    }\n",
       "</style>\n",
       "<table border=\"1\" class=\"dataframe\">\n",
       "  <thead>\n",
       "    <tr style=\"text-align: right;\">\n",
       "      <th></th>\n",
       "      <th>Name</th>\n",
       "      <th>Label</th>\n",
       "      <th>Location</th>\n",
       "      <th>Price</th>\n",
       "      <th>Kms_driven</th>\n",
       "      <th>Fuel_type</th>\n",
       "      <th>Year</th>\n",
       "      <th>Company</th>\n",
       "    </tr>\n",
       "  </thead>\n",
       "  <tbody>\n",
       "    <tr>\n",
       "      <th>0</th>\n",
       "      <td>Ford Figo Duratec Petrol EXI 1.2 - 2015</td>\n",
       "      <td>PLATINUM</td>\n",
       "      <td>Bangalore</td>\n",
       "      <td>380000</td>\n",
       "      <td>35056</td>\n",
       "      <td>Petrol</td>\n",
       "      <td>2015</td>\n",
       "      <td>Ford</td>\n",
       "    </tr>\n",
       "    <tr>\n",
       "      <th>1</th>\n",
       "      <td>Maruti Suzuki Wagon R VXI BS IV - 2016</td>\n",
       "      <td>PLATINUM</td>\n",
       "      <td>Bangalore</td>\n",
       "      <td>465000</td>\n",
       "      <td>44000</td>\n",
       "      <td>Petrol</td>\n",
       "      <td>2016</td>\n",
       "      <td>Maruti</td>\n",
       "    </tr>\n",
       "    <tr>\n",
       "      <th>2</th>\n",
       "      <td>Hyundai Creta 1.6 SX PLUS AUTO PETROL - 2018</td>\n",
       "      <td>PLATINUM</td>\n",
       "      <td>Bangalore</td>\n",
       "      <td>1350000</td>\n",
       "      <td>42917</td>\n",
       "      <td>Petrol</td>\n",
       "      <td>2018</td>\n",
       "      <td>Hyundai</td>\n",
       "    </tr>\n",
       "    <tr>\n",
       "      <th>3</th>\n",
       "      <td>Hyundai Venue - 2019</td>\n",
       "      <td>PLATINUM</td>\n",
       "      <td>Chennai</td>\n",
       "      <td>1019699</td>\n",
       "      <td>16112</td>\n",
       "      <td>Petrol</td>\n",
       "      <td>2019</td>\n",
       "      <td>Hyundai</td>\n",
       "    </tr>\n",
       "    <tr>\n",
       "      <th>4</th>\n",
       "      <td>Honda Jazz - 2017</td>\n",
       "      <td>PLATINUM</td>\n",
       "      <td>Pune</td>\n",
       "      <td>713499</td>\n",
       "      <td>30988</td>\n",
       "      <td>Petrol</td>\n",
       "      <td>2017</td>\n",
       "      <td>Honda</td>\n",
       "    </tr>\n",
       "  </tbody>\n",
       "</table>\n",
       "</div>"
      ],
      "text/plain": [
       "                                           Name     Label   Location    Price  \\\n",
       "0       Ford Figo Duratec Petrol EXI 1.2 - 2015  PLATINUM  Bangalore   380000   \n",
       "1        Maruti Suzuki Wagon R VXI BS IV - 2016  PLATINUM  Bangalore   465000   \n",
       "2  Hyundai Creta 1.6 SX PLUS AUTO PETROL - 2018  PLATINUM  Bangalore  1350000   \n",
       "3                          Hyundai Venue - 2019  PLATINUM    Chennai  1019699   \n",
       "4                             Honda Jazz - 2017  PLATINUM       Pune   713499   \n",
       "\n",
       "   Kms_driven Fuel_type  Year  Company  \n",
       "0       35056    Petrol  2015     Ford  \n",
       "1       44000    Petrol  2016   Maruti  \n",
       "2       42917    Petrol  2018  Hyundai  \n",
       "3       16112   Petrol   2019  Hyundai  \n",
       "4       30988   Petrol   2017    Honda  "
      ]
     },
     "execution_count": 49,
     "metadata": {},
     "output_type": "execute_result"
    }
   ],
   "source": [
    "# extract the car company name from the car name column\n",
    "df['Company'] = df['Name'].str.split().str[0]\n",
    "\n",
    "df.head()"
   ]
  },
  {
   "cell_type": "code",
   "execution_count": 50,
   "metadata": {},
   "outputs": [
    {
     "data": {
      "image/png": "[encoded data removed]",
      "text/plain": [
       "<Figure size 1800x720 with 1 Axes>"
      ]
     },
     "metadata": {
      "needs_background": "light"
     },
     "output_type": "display_data"
    }
   ],
   "source": [
    "plt.figure(figsize=(25,10))\n",
    "sns.countplot(x='Company',data=df)  \n",
    "plt.show()  "
   ]
  },
  {
   "cell_type": "markdown",
   "metadata": {},
   "source": [
    "# Most sold Car in India is made by Maruti "
   ]
  },
  {
   "cell_type": "code",
   "execution_count": 51,
   "metadata": {},
   "outputs": [
    {
     "data": {
      "image/png": "[encoded data removed]",
      "text/plain": [
       "<Figure size 1800x720 with 1 Axes>"
      ]
     },
     "metadata": {
      "needs_background": "light"
     },
     "output_type": "display_data"
    }
   ],
   "source": [
    "plt.figure(figsize=(25,10))\n",
    "sns.countplot(x='Fuel_type',data=df)  \n",
    "plt.show() "
   ]
  },
  {
   "cell_type": "markdown",
   "metadata": {},
   "source": [
    "## Fuel type have need \"strip()\" call cause of unneccesary space in the dataframe"
   ]
  },
  {
   "cell_type": "code",
   "execution_count": 52,
   "metadata": {},
   "outputs": [],
   "source": [
    "df['Fuel_type'] = df['Fuel_type'].str.strip()"
   ]
  },
  {
   "cell_type": "code",
   "execution_count": 53,
   "metadata": {},
   "outputs": [
    {
     "data": {
      "image/png": "[encoded data removed]",
      "text/plain": [
       "<Figure size 1800x720 with 1 Axes>"
      ]
     },
     "metadata": {
      "needs_background": "light"
     },
     "output_type": "display_data"
    }
   ],
   "source": [
    "plt.figure(figsize=(25,10))\n",
    "sns.countplot(x='Fuel_type',data=df)  \n",
    "plt.show() "
   ]
  },
  {
   "cell_type": "markdown",
   "metadata": {},
   "source": [
    "### Most used car does run in \"Petrol engine\""
   ]
  },
  {
   "cell_type": "markdown",
   "metadata": {},
   "source": [
    "## Cars Sold In Each State\n"
   ]
  },
  {
   "cell_type": "code",
   "execution_count": 54,
   "metadata": {
    "execution": {
     "iopub.execute_input": "2022-05-11T12:05:15.806330Z",
     "iopub.status.busy": "2022-05-11T12:05:15.805686Z",
     "iopub.status.idle": "2022-05-11T12:05:16.645503Z",
     "shell.execute_reply": "2022-05-11T12:05:16.644617Z",
     "shell.execute_reply.started": "2022-05-11T12:05:15.806290Z"
    }
   },
   "outputs": [
    {
     "data": {
      "image/png": "[encoded data removed]",
      "text/plain": [
       "<Figure size 1080x1080 with 2 Axes>"
      ]
     },
     "metadata": {
      "needs_background": "light"
     },
     "output_type": "display_data"
    }
   ],
   "source": [
    "fig, ax = plt.subplots(1, figsize=(15, 15))\n",
    "ax.axis('off')\n",
    "ax.set_title('Cars sold in each state',\n",
    "             fontdict={'fontsize': '15', 'fontweight' : '3'})\n",
    "fig = merged.plot(column='Count', cmap='icefire_r', linewidth=0.5, ax=ax, edgecolor='0.2',legend=True)"
   ]
  },
  {
   "cell_type": "markdown",
   "metadata": {},
   "source": [
    "##### We can see that most cars are bought in the southern part of the country\n",
    "##### The Top 3 contributors are:\n",
    "- Karnataka\n",
    "- Tamil Nadu\n",
    "- Maharashtra\n",
    "\n",
    "And since the difference in values is quite high, the others states contribution isn't visible."
   ]
  },
  {
   "cell_type": "code",
   "execution_count": 55,
   "metadata": {
    "execution": {
     "iopub.execute_input": "2022-05-11T12:05:17.679032Z",
     "iopub.status.busy": "2022-05-11T12:05:17.678807Z",
     "iopub.status.idle": "2022-05-11T12:05:17.685121Z",
     "shell.execute_reply": "2022-05-11T12:05:17.684579Z",
     "shell.execute_reply.started": "2022-05-11T12:05:17.679003Z"
    }
   },
   "outputs": [
    {
     "data": {
      "text/plain": [
       "array(['PLATINUM', 'GOLD'], dtype=object)"
      ]
     },
     "execution_count": 55,
     "metadata": {},
     "output_type": "execute_result"
    }
   ],
   "source": [
    "df['Label'].unique()"
   ]
  },
  {
   "cell_type": "code",
   "execution_count": 56,
   "metadata": {
    "execution": {
     "iopub.execute_input": "2022-05-11T12:05:17.686678Z",
     "iopub.status.busy": "2022-05-11T12:05:17.686153Z",
     "iopub.status.idle": "2022-05-11T12:05:17.698504Z",
     "shell.execute_reply": "2022-05-11T12:05:17.697882Z",
     "shell.execute_reply.started": "2022-05-11T12:05:17.686643Z"
    }
   },
   "outputs": [],
   "source": [
    "gold = df[df['Label']=='GOLD']\n",
    "platinum = df[df['Label']=='PLATINUM']"
   ]
  },
  {
   "cell_type": "markdown",
   "metadata": {},
   "source": [
    "## Count of individual label cars\n"
   ]
  },
  {
   "cell_type": "code",
   "execution_count": 57,
   "metadata": {
    "execution": {
     "iopub.execute_input": "2022-05-11T12:05:17.700448Z",
     "iopub.status.busy": "2022-05-11T12:05:17.700000Z",
     "iopub.status.idle": "2022-05-11T12:05:17.900506Z",
     "shell.execute_reply": "2022-05-11T12:05:17.899891Z",
     "shell.execute_reply.started": "2022-05-11T12:05:17.700410Z"
    }
   },
   "outputs": [
    {
     "data": {
      "text/plain": [
       "Text(0.5, 1.0, 'Count of Cars per Label')"
      ]
     },
     "execution_count": 57,
     "metadata": {},
     "output_type": "execute_result"
    },
    {
     "data": {
      "image/png": "[encoded data removed]",
      "text/plain": [
       "<Figure size 864x576 with 1 Axes>"
      ]
     },
     "metadata": {
      "needs_background": "light"
     },
     "output_type": "display_data"
    }
   ],
   "source": [
    "plt.figure(figsize=(12,8))\n",
    "sns.barplot(x=['GOLD','PLATINUM'],y=[len(gold),len(platinum)],palette = 'icefire_r')\n",
    "plt.xlabel('Labels')\n",
    "plt.ylabel('Count')\n",
    "plt.title('Count of Cars per Label')"
   ]
  },
  {
   "cell_type": "markdown",
   "metadata": {},
   "source": [
    "The count of **Platinum Label Cars** is far more than the **GOLD Label** in our dataset."
   ]
  },
  {
   "cell_type": "markdown",
   "metadata": {},
   "source": [
    "## Count of Car Companies"
   ]
  },
  {
   "cell_type": "markdown",
   "metadata": {},
   "source": [
    "Our dataset also has the Car Company column.\n",
    "So let's see all the car companies along with their counts."
   ]
  },
  {
   "cell_type": "code",
   "execution_count": 165,
   "metadata": {
    "execution": {
     "iopub.execute_input": "2022-05-11T12:05:17.902204Z",
     "iopub.status.busy": "2022-05-11T12:05:17.901800Z",
     "iopub.status.idle": "2022-05-11T12:05:17.905969Z",
     "shell.execute_reply": "2022-05-11T12:05:17.905420Z",
     "shell.execute_reply.started": "2022-05-11T12:05:17.902165Z"
    }
   },
   "outputs": [],
   "source": [
    "df1 = df.copy()"
   ]
  },
  {
   "cell_type": "code",
   "execution_count": 166,
   "metadata": {
    "execution": {
     "iopub.execute_input": "2022-05-11T12:05:17.907336Z",
     "iopub.status.busy": "2022-05-11T12:05:17.907016Z",
     "iopub.status.idle": "2022-05-11T12:05:17.929864Z",
     "shell.execute_reply": "2022-05-11T12:05:17.929192Z",
     "shell.execute_reply.started": "2022-05-11T12:05:17.907308Z"
    }
   },
   "outputs": [
    {
     "data": {
      "text/html": [
       "<div>\n",
       "<style scoped>\n",
       "    .dataframe tbody tr th:only-of-type {\n",
       "        vertical-align: middle;\n",
       "    }\n",
       "\n",
       "    .dataframe tbody tr th {\n",
       "        vertical-align: top;\n",
       "    }\n",
       "\n",
       "    .dataframe thead th {\n",
       "        text-align: right;\n",
       "    }\n",
       "</style>\n",
       "<table border=\"1\" class=\"dataframe\">\n",
       "  <thead>\n",
       "    <tr style=\"text-align: right;\">\n",
       "      <th></th>\n",
       "      <th>Company</th>\n",
       "      <th>Name</th>\n",
       "      <th>Label</th>\n",
       "      <th>Location</th>\n",
       "      <th>Price</th>\n",
       "      <th>Kms_driven</th>\n",
       "      <th>Fuel_type</th>\n",
       "      <th>Year</th>\n",
       "    </tr>\n",
       "  </thead>\n",
       "  <tbody>\n",
       "    <tr>\n",
       "      <th>0</th>\n",
       "      <td>Audi</td>\n",
       "      <td>5</td>\n",
       "      <td>5</td>\n",
       "      <td>5</td>\n",
       "      <td>5</td>\n",
       "      <td>5</td>\n",
       "      <td>5</td>\n",
       "      <td>5</td>\n",
       "    </tr>\n",
       "    <tr>\n",
       "      <th>1</th>\n",
       "      <td>BMW</td>\n",
       "      <td>7</td>\n",
       "      <td>7</td>\n",
       "      <td>7</td>\n",
       "      <td>7</td>\n",
       "      <td>7</td>\n",
       "      <td>7</td>\n",
       "      <td>7</td>\n",
       "    </tr>\n",
       "    <tr>\n",
       "      <th>2</th>\n",
       "      <td>Chevrolet</td>\n",
       "      <td>11</td>\n",
       "      <td>11</td>\n",
       "      <td>11</td>\n",
       "      <td>11</td>\n",
       "      <td>11</td>\n",
       "      <td>11</td>\n",
       "      <td>11</td>\n",
       "    </tr>\n",
       "  </tbody>\n",
       "</table>\n",
       "</div>"
      ],
      "text/plain": [
       "     Company  Name  Label  Location  Price  Kms_driven  Fuel_type  Year\n",
       "0       Audi     5      5         5      5           5          5     5\n",
       "1        BMW     7      7         7      7           7          7     7\n",
       "2  Chevrolet    11     11        11     11          11         11    11"
      ]
     },
     "execution_count": 166,
     "metadata": {},
     "output_type": "execute_result"
    }
   ],
   "source": [
    "df1 = df1.groupby(['Company']).count()\n",
    "df1 = df1.reset_index()\n",
    "df1.head(3)"
   ]
  },
  {
   "cell_type": "code",
   "execution_count": 167,
   "metadata": {
    "execution": {
     "iopub.execute_input": "2022-05-11T12:05:17.931349Z",
     "iopub.status.busy": "2022-05-11T12:05:17.930810Z",
     "iopub.status.idle": "2022-05-11T12:05:17.937787Z",
     "shell.execute_reply": "2022-05-11T12:05:17.936931Z",
     "shell.execute_reply.started": "2022-05-11T12:05:17.931316Z"
    }
   },
   "outputs": [],
   "source": [
    "df1 = df1.sort_values(by=['Name','Company'],ascending=False)"
   ]
  },
  {
   "cell_type": "markdown",
   "metadata": {},
   "source": [
    "## Count of Cars Per Company\n"
   ]
  },
  {
   "cell_type": "code",
   "execution_count": 168,
   "metadata": {
    "execution": {
     "iopub.execute_input": "2022-05-11T12:05:17.939326Z",
     "iopub.status.busy": "2022-05-11T12:05:17.938975Z",
     "iopub.status.idle": "2022-05-11T12:05:18.381760Z",
     "shell.execute_reply": "2022-05-11T12:05:18.380661Z",
     "shell.execute_reply.started": "2022-05-11T12:05:17.939296Z"
    }
   },
   "outputs": [
    {
     "data": {
      "text/plain": [
       "Text(0.5, 1.0, 'Count of Cars Per Company')"
      ]
     },
     "execution_count": 168,
     "metadata": {},
     "output_type": "execute_result"
    },
    {
     "data": {
      "image/png": "[encoded data removed]",
      "text/plain": [
       "<Figure size 1440x720 with 1 Axes>"
      ]
     },
     "metadata": {
      "needs_background": "light"
     },
     "output_type": "display_data"
    }
   ],
   "source": [
    "plt.figure(figsize=(20,10))\n",
    "sns.barplot(x='Company',y='Name',data=df1,palette='icefire')\n",
    "plt.xlabel('Car Company')\n",
    "plt.xticks(rotation=-90)\n",
    "plt.ylabel('Count of Cars')\n",
    "plt.title('Count of Cars Per Company')"
   ]
  },
  {
   "cell_type": "markdown",
   "metadata": {},
   "source": [
    "Clearly Maruti is the leader and it is evident from the fact that Maruti alone contributes to **40%** of the Vehicle Supply in India.\n"
   ]
  },
  {
   "cell_type": "markdown",
   "metadata": {},
   "source": [
    "Lets see which Company belongs to which label"
   ]
  },
  {
   "cell_type": "code",
   "execution_count": 169,
   "metadata": {
    "execution": {
     "iopub.execute_input": "2022-05-11T12:05:18.383603Z",
     "iopub.status.busy": "2022-05-11T12:05:18.383254Z",
     "iopub.status.idle": "2022-05-11T12:05:18.388401Z",
     "shell.execute_reply": "2022-05-11T12:05:18.387432Z",
     "shell.execute_reply.started": "2022-05-11T12:05:18.383540Z"
    }
   },
   "outputs": [],
   "source": [
    "df2 = df.copy()"
   ]
  },
  {
   "cell_type": "markdown",
   "metadata": {},
   "source": [
    "## Count of Cars Per Label"
   ]
  },
  {
   "cell_type": "code",
   "execution_count": 170,
   "metadata": {
    "execution": {
     "iopub.execute_input": "2022-05-11T12:05:18.390005Z",
     "iopub.status.busy": "2022-05-11T12:05:18.389771Z",
     "iopub.status.idle": "2022-05-11T12:05:18.915472Z",
     "shell.execute_reply": "2022-05-11T12:05:18.914614Z",
     "shell.execute_reply.started": "2022-05-11T12:05:18.389975Z"
    }
   },
   "outputs": [
    {
     "data": {
      "text/plain": [
       "Text(0.5, 1.0, 'Count of Cars Per Label')"
      ]
     },
     "execution_count": 170,
     "metadata": {},
     "output_type": "execute_result"
    },
    {
     "data": {
      "image/png": "[encoded data removed]",
      "text/plain": [
       "<Figure size 1440x720 with 1 Axes>"
      ]
     },
     "metadata": {
      "needs_background": "light"
     },
     "output_type": "display_data"
    }
   ],
   "source": [
    "plt.figure(figsize=(20,10))\n",
    "sns.barplot(x='Company',y='Price',hue='Label',data=df2,ci=None,palette='cool_r')\n",
    "plt.xlabel('Car Company')\n",
    "plt.xticks(rotation=-90)\n",
    "plt.ylabel('Count of Cars')\n",
    "plt.title('Count of Cars Per Label')"
   ]
  },
  {
   "cell_type": "markdown",
   "metadata": {},
   "source": [
    "All the sports car brands such as **Jaguar**,**BMW**,**LandRover** and **Porsche** are **Gold Labelled**."
   ]
  },
  {
   "cell_type": "code",
   "execution_count": 171,
   "metadata": {
    "execution": {
     "iopub.execute_input": "2022-05-11T12:12:03.065726Z",
     "iopub.status.busy": "2022-05-11T12:12:03.064870Z",
     "iopub.status.idle": "2022-05-11T12:12:03.477708Z",
     "shell.execute_reply": "2022-05-11T12:12:03.476838Z",
     "shell.execute_reply.started": "2022-05-11T12:12:03.065682Z"
    }
   },
   "outputs": [
    {
     "data": {
      "text/plain": [
       "(0.0, 250000.0)"
      ]
     },
     "execution_count": 171,
     "metadata": {},
     "output_type": "execute_result"
    },
    {
     "data": {
      "image/png": "[encoded data removed]",
      "text/plain": [
       "<Figure size 864x576 with 1 Axes>"
      ]
     },
     "metadata": {
      "needs_background": "light"
     },
     "output_type": "display_data"
    }
   ],
   "source": [
    "plt.figure(figsize=(12,8))\n",
    "sns.scatterplot(x='`,data=df, hue='Label', palette = 'cool')\n",
    "plt.xlabel('Kms Driven')\n",
    "plt.ylabel('Price of the Car')\n",
    "plt.title('Impact of Kms Driven on the price')\n",
    "plt.ylim(0,5000000)\n",
    "plt.xlim(0,250000)"
   ]
  },
  {
   "cell_type": "markdown",
   "metadata": {},
   "source": [
    "We can see that the highest priced cars are **GOLD** but other than that, nospecific information can be extracted from this graph."
   ]
  },
  {
   "cell_type": "markdown",
   "metadata": {},
   "source": [
    "## Plotting Top10 Cars"
   ]
  },
  {
   "cell_type": "code",
   "execution_count": 172,
   "metadata": {
    "execution": {
     "iopub.execute_input": "2022-05-11T12:18:31.212343Z",
     "iopub.status.busy": "2022-05-11T12:18:31.211549Z",
     "iopub.status.idle": "2022-05-11T12:18:31.230413Z",
     "shell.execute_reply": "2022-05-11T12:18:31.229800Z",
     "shell.execute_reply.started": "2022-05-11T12:18:31.212301Z"
    }
   },
   "outputs": [
    {
     "data": {
      "text/html": [
       "<div>\n",
       "<style scoped>\n",
       "    .dataframe tbody tr th:only-of-type {\n",
       "        vertical-align: middle;\n",
       "    }\n",
       "\n",
       "    .dataframe tbody tr th {\n",
       "        vertical-align: top;\n",
       "    }\n",
       "\n",
       "    .dataframe thead th {\n",
       "        text-align: right;\n",
       "    }\n",
       "</style>\n",
       "<table border=\"1\" class=\"dataframe\">\n",
       "  <thead>\n",
       "    <tr style=\"text-align: right;\">\n",
       "      <th></th>\n",
       "      <th>Name</th>\n",
       "      <th>Label</th>\n",
       "      <th>Location</th>\n",
       "      <th>Price</th>\n",
       "      <th>Kms_driven</th>\n",
       "      <th>Fuel_type</th>\n",
       "      <th>Year</th>\n",
       "      <th>Company</th>\n",
       "    </tr>\n",
       "  </thead>\n",
       "  <tbody>\n",
       "    <tr>\n",
       "      <th>0</th>\n",
       "      <td>Ford Figo Duratec Petrol EXI 1.2 - 2015</td>\n",
       "      <td>PLATINUM</td>\n",
       "      <td>Bangalore</td>\n",
       "      <td>380000</td>\n",
       "      <td>35056</td>\n",
       "      <td>Petrol</td>\n",
       "      <td>2015</td>\n",
       "      <td>Ford</td>\n",
       "    </tr>\n",
       "    <tr>\n",
       "      <th>1</th>\n",
       "      <td>Maruti Suzuki Wagon R VXI BS IV - 2016</td>\n",
       "      <td>PLATINUM</td>\n",
       "      <td>Bangalore</td>\n",
       "      <td>465000</td>\n",
       "      <td>44000</td>\n",
       "      <td>Petrol</td>\n",
       "      <td>2016</td>\n",
       "      <td>Maruti</td>\n",
       "    </tr>\n",
       "    <tr>\n",
       "      <th>2</th>\n",
       "      <td>Hyundai Creta 1.6 SX PLUS AUTO PETROL - 2018</td>\n",
       "      <td>PLATINUM</td>\n",
       "      <td>Bangalore</td>\n",
       "      <td>1350000</td>\n",
       "      <td>42917</td>\n",
       "      <td>Petrol</td>\n",
       "      <td>2018</td>\n",
       "      <td>Hyundai</td>\n",
       "    </tr>\n",
       "    <tr>\n",
       "      <th>3</th>\n",
       "      <td>Hyundai Venue - 2019</td>\n",
       "      <td>PLATINUM</td>\n",
       "      <td>Chennai</td>\n",
       "      <td>1019699</td>\n",
       "      <td>16112</td>\n",
       "      <td>Petrol</td>\n",
       "      <td>2019</td>\n",
       "      <td>Hyundai</td>\n",
       "    </tr>\n",
       "    <tr>\n",
       "      <th>4</th>\n",
       "      <td>Honda Jazz - 2017</td>\n",
       "      <td>PLATINUM</td>\n",
       "      <td>Pune</td>\n",
       "      <td>713499</td>\n",
       "      <td>30988</td>\n",
       "      <td>Petrol</td>\n",
       "      <td>2017</td>\n",
       "      <td>Honda</td>\n",
       "    </tr>\n",
       "    <tr>\n",
       "      <th>5</th>\n",
       "      <td>Hyundai i20 - 2013</td>\n",
       "      <td>PLATINUM</td>\n",
       "      <td>Pune</td>\n",
       "      <td>391099</td>\n",
       "      <td>69163</td>\n",
       "      <td>Diesel</td>\n",
       "      <td>2013</td>\n",
       "      <td>Hyundai</td>\n",
       "    </tr>\n",
       "    <tr>\n",
       "      <th>6</th>\n",
       "      <td>Maruti Suzuki Swift Dzire VXi 1.2 BS IV - 2015</td>\n",
       "      <td>PLATINUM</td>\n",
       "      <td>Pune</td>\n",
       "      <td>474299</td>\n",
       "      <td>42859</td>\n",
       "      <td>Petrol</td>\n",
       "      <td>2015</td>\n",
       "      <td>Maruti</td>\n",
       "    </tr>\n",
       "    <tr>\n",
       "      <th>7</th>\n",
       "      <td>Toyota Corolla Altis VL AT - 2017</td>\n",
       "      <td>PLATINUM</td>\n",
       "      <td>Pune</td>\n",
       "      <td>1252999</td>\n",
       "      <td>34919</td>\n",
       "      <td>Petrol</td>\n",
       "      <td>2017</td>\n",
       "      <td>Toyota</td>\n",
       "    </tr>\n",
       "    <tr>\n",
       "      <th>8</th>\n",
       "      <td>Honda Amaze - 2013</td>\n",
       "      <td>PLATINUM</td>\n",
       "      <td>Pune</td>\n",
       "      <td>393699</td>\n",
       "      <td>44940</td>\n",
       "      <td>Petrol</td>\n",
       "      <td>2013</td>\n",
       "      <td>Honda</td>\n",
       "    </tr>\n",
       "    <tr>\n",
       "      <th>9</th>\n",
       "      <td>Hyundai Elite i20 Asta 1.2 - 2017</td>\n",
       "      <td>PLATINUM</td>\n",
       "      <td>Pune</td>\n",
       "      <td>730899</td>\n",
       "      <td>13687</td>\n",
       "      <td>Petrol</td>\n",
       "      <td>2017</td>\n",
       "      <td>Hyundai</td>\n",
       "    </tr>\n",
       "  </tbody>\n",
       "</table>\n",
       "</div>"
      ],
      "text/plain": [
       "                                             Name     Label   Location  \\\n",
       "0         Ford Figo Duratec Petrol EXI 1.2 - 2015  PLATINUM  Bangalore   \n",
       "1          Maruti Suzuki Wagon R VXI BS IV - 2016  PLATINUM  Bangalore   \n",
       "2    Hyundai Creta 1.6 SX PLUS AUTO PETROL - 2018  PLATINUM  Bangalore   \n",
       "3                            Hyundai Venue - 2019  PLATINUM    Chennai   \n",
       "4                               Honda Jazz - 2017  PLATINUM       Pune   \n",
       "5                              Hyundai i20 - 2013  PLATINUM       Pune   \n",
       "6  Maruti Suzuki Swift Dzire VXi 1.2 BS IV - 2015  PLATINUM       Pune   \n",
       "7               Toyota Corolla Altis VL AT - 2017  PLATINUM       Pune   \n",
       "8                              Honda Amaze - 2013  PLATINUM       Pune   \n",
       "9               Hyundai Elite i20 Asta 1.2 - 2017  PLATINUM       Pune   \n",
       "\n",
       "     Price  Kms_driven Fuel_type  Year  Company  \n",
       "0   380000       35056    Petrol  2015     Ford  \n",
       "1   465000       44000    Petrol  2016   Maruti  \n",
       "2  1350000       42917    Petrol  2018  Hyundai  \n",
       "3  1019699       16112    Petrol  2019  Hyundai  \n",
       "4   713499       30988    Petrol  2017    Honda  \n",
       "5   391099       69163    Diesel  2013  Hyundai  \n",
       "6   474299       42859    Petrol  2015   Maruti  \n",
       "7  1252999       34919    Petrol  2017   Toyota  \n",
       "8   393699       44940    Petrol  2013    Honda  \n",
       "9   730899       13687    Petrol  2017  Hyundai  "
      ]
     },
     "execution_count": 172,
     "metadata": {},
     "output_type": "execute_result"
    }
   ],
   "source": [
    "df3 = df.copy()\n",
    "df3.head(10)"
   ]
  },
  {
   "cell_type": "code",
   "execution_count": 173,
   "metadata": {
    "execution": {
     "iopub.execute_input": "2022-05-11T12:22:43.019301Z",
     "iopub.status.busy": "2022-05-11T12:22:43.019002Z",
     "iopub.status.idle": "2022-05-11T12:22:43.026747Z",
     "shell.execute_reply": "2022-05-11T12:22:43.025536Z",
     "shell.execute_reply.started": "2022-05-11T12:22:43.019271Z"
    }
   },
   "outputs": [],
   "source": [
    "df3 = df3.sort_values(by='Price',ascending = False)\n",
    "top10 = df3[:10]"
   ]
  },
  {
   "cell_type": "markdown",
   "metadata": {},
   "source": [
    "### TOP 10 Highest Priced Cars\n",
    "\n"
   ]
  },
  {
   "cell_type": "code",
   "execution_count": 174,
   "metadata": {
    "execution": {
     "iopub.execute_input": "2022-05-11T12:21:47.194498Z",
     "iopub.status.busy": "2022-05-11T12:21:47.193550Z",
     "iopub.status.idle": "2022-05-11T12:21:47.502434Z",
     "shell.execute_reply": "2022-05-11T12:21:47.501606Z",
     "shell.execute_reply.started": "2022-05-11T12:21:47.194444Z"
    }
   },
   "outputs": [
    {
     "data": {
      "text/plain": [
       "Text(0.5, 1.0, 'Top 10 Highest Priced Cars')"
      ]
     },
     "execution_count": 174,
     "metadata": {},
     "output_type": "execute_result"
    },
    {
     "data": {
      "image/png": "[encoded data removed]",
      "text/plain": [
       "<Figure size 864x576 with 1 Axes>"
      ]
     },
     "metadata": {
      "needs_background": "light"
     },
     "output_type": "display_data"
    }
   ],
   "source": [
    "plt.figure(figsize=(12,8))\n",
    "sns.barplot(x='Name',y='Price',data=top10,palette='cool',ci=None);\n",
    "plt.xlabel('Car Name')\n",
    "plt.xticks(rotation=-90)\n",
    "plt.ylabel('Price of Car')\n",
    "plt.title('Top 10 Highest Priced Cars')"
   ]
  },
  {
   "cell_type": "code",
   "execution_count": 188,
   "metadata": {},
   "outputs": [
    {
     "name": "stderr",
     "output_type": "stream",
     "text": [
      "C:\\Users\\Rupam\\anaconda3\\lib\\site-packages\\seaborn\\distributions.py:2619: FutureWarning: `distplot` is a deprecated function and will be removed in a future version. Please adapt your code to use either `displot` (a figure-level function with similar flexibility) or `histplot` (an axes-level function for histograms).\n",
      "  warnings.warn(msg, FutureWarning)\n"
     ]
    },
    {
     "data": {
      "image/png": "[encoded data removed]",
      "text/plain": [
       "<Figure size 864x576 with 1 Axes>"
      ]
     },
     "metadata": {},
     "output_type": "display_data"
    }
   ],
   "source": [
    "plt.figure(figsize=(12,8))\n",
    "sns.set_style('whitegrid')\n",
    "sns.distplot(df['Price'], kde = True, color ='red', bins = 30)\n",
    "plt.show()"
   ]
  },
  {
   "cell_type": "code",
   "execution_count": 58,
   "metadata": {},
   "outputs": [
    {
     "data": {
      "text/plain": [
       "<Figure size 1440x720 with 0 Axes>"
      ]
     },
     "metadata": {},
     "output_type": "display_data"
    },
    {
     "data": {
      "image/png": "[encoded data removed]",
      "text/plain": [
       "<Figure size 432x432 with 3 Axes>"
      ]
     },
     "metadata": {},
     "output_type": "display_data"
    }
   ],
   "source": [
    "plt.figure(figsize=(20,10))\n",
    "sns.set_style('whitegrid')\n",
    "sns.jointplot(x ='Price', y ='Kms_driven', data = df, kind ='kde')\n",
    "plt.show()"
   ]
  },
  {
   "cell_type": "code",
   "execution_count": null,
   "metadata": {},
   "outputs": [],
   "source": []
  }
 ],
 "metadata": {
  "kernelspec": {
   "display_name": "Python 3 (ipykernel)",
   "language": "python",
   "name": "python3"
  },
  "language_info": {
   "codemirror_mode": {
    "name": "ipython",
    "version": 3
   },
   "file_extension": ".py",
   "mimetype": "text/x-python",
   "name": "python",
   "nbconvert_exporter": "python",
   "pygments_lexer": "ipython3",
   "version": "3.9.12"
  }
 },
 "nbformat": 4,
 "nbformat_minor": 4
}
